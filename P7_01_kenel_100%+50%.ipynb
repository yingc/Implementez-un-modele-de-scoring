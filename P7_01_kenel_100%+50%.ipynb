{
 "cells": [
  {
   "cell_type": "code",
   "execution_count": 1,
   "metadata": {},
   "outputs": [],
   "source": [
    "# HOME CREDIT DEFAULT RISK COMPETITION\n",
    "# Most features are created by applying min, max, mean, sum and var functions to grouped tables. \n",
    "# Little feature selection is done and overfitting might be a problem since many features are related.\n",
    "# The following key ideas were used:\n",
    "# - Divide or subtract important features to get rates (like annuity and income)\n",
    "# - In Bureau Data: create specific features for Active credits and Closed credits\n",
    "# - In Previous Applications: create specific features for Approved and Refused applications\n",
    "# - Modularity: one function for each table (except bureau_balance and application_test)\n",
    "# - One-hot encoding for categorical features\n",
    "# All tables are joined with the application DF using the SK_ID_CURR key (except bureau_balance).\n",
    "# You can use LightGBM with KFold or Stratified KFold.\n",
    "\n",
    "# Update 16/06/2018:\n",
    "# - Added Payment Rate feature\n",
    "# - Removed index from features\n",
    "# - Use standard KFold CV (not stratified)"
   ]
  },
  {
   "cell_type": "code",
   "execution_count": 2,
   "metadata": {},
   "outputs": [],
   "source": [
    "# 0 : pas de frande liée à une transaction\n",
    "# 1 :  frande liée à une transaction"
   ]
  },
  {
   "cell_type": "markdown",
   "metadata": {},
   "source": [
    "# https://www.kaggle.com/code/jsaguiar/lightgbm-with-simple-features/script"
   ]
  },
  {
   "cell_type": "code",
   "execution_count": 1,
   "metadata": {},
   "outputs": [
    {
     "data": {
      "text/plain": [
       "<IPython.core.display.HTML object>"
      ]
     },
     "metadata": {},
     "output_type": "display_data"
    }
   ],
   "source": [
    "import numpy as np\n",
    "import pandas as pd\n",
    "import datatable as dt\n",
    "import gc\n",
    "from joblib import load, dump\n",
    "import time\n",
    "from contextlib import contextmanager\n",
    "from lightgbm import LGBMClassifier\n",
    "from sklearn.metrics import roc_auc_score, roc_curve\n",
    "from sklearn.model_selection import KFold, StratifiedKFold\n",
    "import matplotlib.pyplot as plt\n",
    "import seaborn as sns\n",
    "import warnings\n",
    "warnings.simplefilter(action='ignore', category=FutureWarning)"
   ]
  },
  {
   "cell_type": "markdown",
   "metadata": {},
   "source": [
    "## Première partie : Feature Engineering"
   ]
  },
  {
   "cell_type": "code",
   "execution_count": 4,
   "metadata": {},
   "outputs": [],
   "source": [
    "@contextmanager\n",
    "def timer(title):\n",
    "    t0 = time.time()\n",
    "    yield\n",
    "    print(\"{} - done in {:.0f}s\".format(title, time.time() - t0))"
   ]
  },
  {
   "cell_type": "code",
   "execution_count": 5,
   "metadata": {},
   "outputs": [],
   "source": [
    "# One-hot encoding for categorical columns with get_dummies\n",
    "def one_hot_encoder(df, nan_as_category = True):\n",
    "    original_columns = list(df.columns)\n",
    "    categorical_columns = [col for col in df.columns if df[col].dtype == 'object']\n",
    "    df = pd.get_dummies(df, columns= categorical_columns, dummy_na= nan_as_category)\n",
    "    new_columns = [c for c in df.columns if c not in original_columns]\n",
    "    return df, new_columns"
   ]
  },
  {
   "cell_type": "markdown",
   "metadata": {},
   "source": [
    "### Valeur aberrante, "
   ]
  },
  {
   "cell_type": "code",
   "execution_count": 6,
   "metadata": {},
   "outputs": [],
   "source": [
    "# Preprocess application_train.csv and application_test.csv\n",
    "def application_train_test(num_rows = None, nan_as_category = False):\n",
    "    # Read data and merge\n",
    "    df = pd.read_csv('application_train.csv', nrows= num_rows)\n",
    "    test_df = pd.read_csv('application_test.csv', nrows= num_rows)\n",
    "    print(\"Train samples: {}, test samples: {}\".format(len(df), len(test_df)))\n",
    "    df = df.append(test_df).reset_index()\n",
    "    # Optional: Remove 4 applications with XNA CODE_GENDER (train set)\n",
    "    df = df[df['CODE_GENDER'] != 'XNA']\n",
    "    \n",
    "    # Categorical features with Binary encode (0 or 1; two categories)\n",
    "    for bin_feature in ['CODE_GENDER', 'FLAG_OWN_CAR', 'FLAG_OWN_REALTY']:\n",
    "        df[bin_feature], uniques = pd.factorize(df[bin_feature])\n",
    "    # Categorical features with One-Hot encode\n",
    "    df, cat_cols = one_hot_encoder(df, nan_as_category)\n",
    "    \n",
    "    # NaN values for DAYS_EMPLOYED: 365.243 -> nan\n",
    "    df['DAYS_EMPLOYED'].replace(365243, np.nan, inplace= True)\n",
    "    # Some simple new features (percentages)\n",
    "    df['DAYS_EMPLOYED_PERC'] = df['DAYS_EMPLOYED'] / df['DAYS_BIRTH']\n",
    "    df['INCOME_CREDIT_PERC'] = df['AMT_INCOME_TOTAL'] / df['AMT_CREDIT']\n",
    "    df['INCOME_PER_PERSON'] = df['AMT_INCOME_TOTAL'] / df['CNT_FAM_MEMBERS']\n",
    "    df['ANNUITY_INCOME_PERC'] = df['AMT_ANNUITY'] / df['AMT_INCOME_TOTAL']\n",
    "    df['PAYMENT_RATE'] = df['AMT_ANNUITY'] / df['AMT_CREDIT']\n",
    "    del test_df\n",
    "    gc.collect()\n",
    "    return df"
   ]
  },
  {
   "cell_type": "code",
   "execution_count": 7,
   "metadata": {},
   "outputs": [],
   "source": [
    "# Preprocess bureau.csv and bureau_balance.csv\n",
    "def bureau_and_balance(num_rows = None, nan_as_category = True):\n",
    "    bureau = pd.read_csv('bureau.csv', nrows = num_rows)\n",
    "    bb = pd.read_csv('bureau_balance.csv', nrows = num_rows)\n",
    "    bb, bb_cat = one_hot_encoder(bb, nan_as_category)\n",
    "    bureau, bureau_cat = one_hot_encoder(bureau, nan_as_category)\n",
    "    \n",
    "    # Bureau balance: Perform aggregations and merge with bureau.csv\n",
    "    bb_aggregations = {'MONTHS_BALANCE': ['min', 'max', 'size']}\n",
    "    for col in bb_cat:\n",
    "        bb_aggregations[col] = ['mean']\n",
    "    bb_agg = bb.groupby('SK_ID_BUREAU').agg(bb_aggregations)\n",
    "    bb_agg.columns = pd.Index([e[0] + \"_\" + e[1].upper() for e in bb_agg.columns.tolist()])\n",
    "    bureau = bureau.join(bb_agg, how='left', on='SK_ID_BUREAU')\n",
    "    bureau.drop(['SK_ID_BUREAU'], axis=1, inplace= True)\n",
    "    del bb, bb_agg\n",
    "    gc.collect()\n",
    "    \n",
    "    # Bureau and bureau_balance numeric features\n",
    "    num_aggregations = {\n",
    "        'DAYS_CREDIT': ['min', 'max', 'mean', 'var'],\n",
    "        'DAYS_CREDIT_ENDDATE': ['min', 'max', 'mean'],\n",
    "        'DAYS_CREDIT_UPDATE': ['mean'],\n",
    "        'CREDIT_DAY_OVERDUE': ['max', 'mean'],\n",
    "        'AMT_CREDIT_MAX_OVERDUE': ['mean'],\n",
    "        'AMT_CREDIT_SUM': ['max', 'mean', 'sum'],\n",
    "        'AMT_CREDIT_SUM_DEBT': ['max', 'mean', 'sum'],\n",
    "        'AMT_CREDIT_SUM_OVERDUE': ['mean'],\n",
    "        'AMT_CREDIT_SUM_LIMIT': ['mean', 'sum'],\n",
    "        'AMT_ANNUITY': ['max', 'mean'],\n",
    "        'CNT_CREDIT_PROLONG': ['sum'],\n",
    "        'MONTHS_BALANCE_MIN': ['min'],\n",
    "        'MONTHS_BALANCE_MAX': ['max'],\n",
    "        'MONTHS_BALANCE_SIZE': ['mean', 'sum']\n",
    "    }\n",
    "    # Bureau and bureau_balance categorical features\n",
    "    cat_aggregations = {}\n",
    "    for cat in bureau_cat: cat_aggregations[cat] = ['mean']\n",
    "    for cat in bb_cat: cat_aggregations[cat + \"_MEAN\"] = ['mean']\n",
    "    \n",
    "    bureau_agg = bureau.groupby('SK_ID_CURR').agg({**num_aggregations, **cat_aggregations})\n",
    "    bureau_agg.columns = pd.Index(['BURO_' + e[0] + \"_\" + e[1].upper() for e in bureau_agg.columns.tolist()])\n",
    "\n",
    "    # Bureau: Active credits - using only numerical aggregations\n",
    "    active = bureau[bureau['CREDIT_ACTIVE_Active'] == 1]\n",
    "    active_agg = active.groupby('SK_ID_CURR').agg(num_aggregations)\n",
    "    active_agg.columns = pd.Index(['ACTIVE_' + e[0] + \"_\" + e[1].upper() for e in active_agg.columns.tolist()])\n",
    "    bureau_agg = bureau_agg.join(active_agg, how='left', on='SK_ID_CURR')\n",
    "    del active, active_agg\n",
    "    gc.collect()\n",
    "    \n",
    "    # Bureau: Closed credits - using only numerical aggregations\n",
    "    closed = bureau[bureau['CREDIT_ACTIVE_Closed'] == 1]\n",
    "    closed_agg = closed.groupby('SK_ID_CURR').agg(num_aggregations)\n",
    "    closed_agg.columns = pd.Index(['CLOSED_' + e[0] + \"_\" + e[1].upper() for e in closed_agg.columns.tolist()])\n",
    "    bureau_agg = bureau_agg.join(closed_agg, how='left', on='SK_ID_CURR')\n",
    "    del closed, closed_agg, bureau\n",
    "    gc.collect()\n",
    "    \n",
    "    return bureau_agg"
   ]
  },
  {
   "cell_type": "code",
   "execution_count": 8,
   "metadata": {},
   "outputs": [],
   "source": [
    "# Preprocess previous_applications.csv\n",
    "def previous_applications(num_rows = None, nan_as_category = True):\n",
    "    prev = pd.read_csv('previous_application.csv', nrows = num_rows)\n",
    "    prev, cat_cols = one_hot_encoder(prev, nan_as_category= True)\n",
    "\n",
    "    # Days 365.243 values -> nan\n",
    "    prev['DAYS_FIRST_DRAWING'].replace(365243, np.nan, inplace= True)\n",
    "    prev['DAYS_FIRST_DUE'].replace(365243, np.nan, inplace= True)\n",
    "    prev['DAYS_LAST_DUE_1ST_VERSION'].replace(365243, np.nan, inplace= True)\n",
    "    prev['DAYS_LAST_DUE'].replace(365243, np.nan, inplace= True)\n",
    "    prev['DAYS_TERMINATION'].replace(365243, np.nan, inplace= True)\n",
    "    \n",
    "    # Add feature: value ask / value received percentage\n",
    "    prev['APP_CREDIT_PERC'] = prev['AMT_APPLICATION'] / prev['AMT_CREDIT']\n",
    "    \n",
    "    # Previous applications numeric features\n",
    "    num_aggregations = {\n",
    "        'AMT_ANNUITY': ['min', 'max', 'mean'],\n",
    "        'AMT_APPLICATION': ['min', 'max', 'mean'],\n",
    "        'AMT_CREDIT': ['min', 'max', 'mean'],\n",
    "        'APP_CREDIT_PERC': ['min', 'max', 'mean', 'var'],\n",
    "        'AMT_DOWN_PAYMENT': ['min', 'max', 'mean'],\n",
    "        'AMT_GOODS_PRICE': ['min', 'max', 'mean'],\n",
    "        'HOUR_APPR_PROCESS_START': ['min', 'max', 'mean'],\n",
    "        'RATE_DOWN_PAYMENT': ['min', 'max', 'mean'],\n",
    "        'DAYS_DECISION': ['min', 'max', 'mean'],\n",
    "        'CNT_PAYMENT': ['mean', 'sum'],\n",
    "    }\n",
    "    # Previous applications categorical features\n",
    "    cat_aggregations = {}\n",
    "    for cat in cat_cols:\n",
    "        cat_aggregations[cat] = ['mean']\n",
    "    \n",
    "    prev_agg = prev.groupby('SK_ID_CURR').agg({**num_aggregations, **cat_aggregations})\n",
    "    prev_agg.columns = pd.Index(['PREV_' + e[0] + \"_\" + e[1].upper() for e in prev_agg.columns.tolist()])\n",
    "    \n",
    "    # Previous Applications: Approved Applications - only numerical features\n",
    "    approved = prev[prev['NAME_CONTRACT_STATUS_Approved'] == 1]\n",
    "    approved_agg = approved.groupby('SK_ID_CURR').agg(num_aggregations)\n",
    "    approved_agg.columns = pd.Index(['APPROVED_' + e[0] + \"_\" + e[1].upper() for e in approved_agg.columns.tolist()])\n",
    "    prev_agg = prev_agg.join(approved_agg, how='left', on='SK_ID_CURR')\n",
    "    \n",
    "    # Previous Applications: Refused Applications - only numerical features\n",
    "    refused = prev[prev['NAME_CONTRACT_STATUS_Refused'] == 1]\n",
    "    refused_agg = refused.groupby('SK_ID_CURR').agg(num_aggregations)\n",
    "    refused_agg.columns = pd.Index(['REFUSED_' + e[0] + \"_\" + e[1].upper() for e in refused_agg.columns.tolist()])\n",
    "    prev_agg = prev_agg.join(refused_agg, how='left', on='SK_ID_CURR')\n",
    "    del refused, refused_agg, approved, approved_agg, prev\n",
    "    gc.collect()\n",
    "    \n",
    "    return prev_agg"
   ]
  },
  {
   "cell_type": "code",
   "execution_count": 9,
   "metadata": {},
   "outputs": [],
   "source": [
    "# Preprocess POS_CASH_balance.csv\n",
    "def pos_cash(num_rows = None, nan_as_category = True):\n",
    "    pos = pd.read_csv('POS_CASH_balance.csv', nrows = num_rows)\n",
    "    pos, cat_cols = one_hot_encoder(pos, nan_as_category= True)\n",
    "\n",
    "    # Features\n",
    "    aggregations = {\n",
    "        'MONTHS_BALANCE': ['max', 'mean', 'size'],\n",
    "        'SK_DPD': ['max', 'mean'],\n",
    "        'SK_DPD_DEF': ['max', 'mean']\n",
    "    }\n",
    "    for cat in cat_cols:\n",
    "        aggregations[cat] = ['mean']\n",
    "    \n",
    "    pos_agg = pos.groupby('SK_ID_CURR').agg(aggregations)\n",
    "    pos_agg.columns = pd.Index(['POS_' + e[0] + \"_\" + e[1].upper() for e in pos_agg.columns.tolist()])\n",
    "    \n",
    "    # Count pos cash accounts\n",
    "    pos_agg['POS_COUNT'] = pos.groupby('SK_ID_CURR').size()\n",
    "    del pos\n",
    "    gc.collect()\n",
    "    \n",
    "    return pos_agg"
   ]
  },
  {
   "cell_type": "code",
   "execution_count": 10,
   "metadata": {},
   "outputs": [],
   "source": [
    "# Preprocess installments_payments.csv\n",
    "def installments_payments(num_rows = None, nan_as_category = True):\n",
    "    ins = pd.read_csv('installments_payments.csv', nrows = num_rows)\n",
    "    ins, cat_cols = one_hot_encoder(ins, nan_as_category= True)\n",
    "\n",
    "    # Percentage and difference paid in each installment (amount paid and installment value)\n",
    "    ins['PAYMENT_PERC'] = ins['AMT_PAYMENT'] / ins['AMT_INSTALMENT']\n",
    "    ins['PAYMENT_DIFF'] = ins['AMT_INSTALMENT'] - ins['AMT_PAYMENT']\n",
    "    \n",
    "    # Days past due and days before due (no negative values)\n",
    "    ins['DPD'] = ins['DAYS_ENTRY_PAYMENT'] - ins['DAYS_INSTALMENT']\n",
    "    ins['DBD'] = ins['DAYS_INSTALMENT'] - ins['DAYS_ENTRY_PAYMENT']\n",
    "    ins['DPD'] = ins['DPD'].apply(lambda x: x if x > 0 else 0)\n",
    "    ins['DBD'] = ins['DBD'].apply(lambda x: x if x > 0 else 0)\n",
    "    \n",
    "    # Features: Perform aggregations\n",
    "    aggregations = {\n",
    "        'NUM_INSTALMENT_VERSION': ['nunique'],\n",
    "        'DPD': ['max', 'mean', 'sum'],\n",
    "        'DBD': ['max', 'mean', 'sum'],\n",
    "        'PAYMENT_PERC': ['max', 'mean', 'sum', 'var'],\n",
    "        'PAYMENT_DIFF': ['max', 'mean', 'sum', 'var'],\n",
    "        'AMT_INSTALMENT': ['max', 'mean', 'sum'],\n",
    "        'AMT_PAYMENT': ['min', 'max', 'mean', 'sum'],\n",
    "        'DAYS_ENTRY_PAYMENT': ['max', 'mean', 'sum']\n",
    "    }\n",
    "    for cat in cat_cols:\n",
    "        aggregations[cat] = ['mean']\n",
    "    ins_agg = ins.groupby('SK_ID_CURR').agg(aggregations)\n",
    "    ins_agg.columns = pd.Index(['INSTAL_' + e[0] + \"_\" + e[1].upper() for e in ins_agg.columns.tolist()])\n",
    "    \n",
    "    # Count installments accounts\n",
    "    ins_agg['INSTAL_COUNT'] = ins.groupby('SK_ID_CURR').size()\n",
    "    del ins\n",
    "    gc.collect()\n",
    "    \n",
    "    return ins_agg"
   ]
  },
  {
   "cell_type": "code",
   "execution_count": 11,
   "metadata": {},
   "outputs": [],
   "source": [
    "# Preprocess credit_card_balance.csv\n",
    "def credit_card_balance(num_rows = None, nan_as_category = True):\n",
    "    cc = pd.read_csv('credit_card_balance.csv', nrows = num_rows)\n",
    "    cc, cat_cols = one_hot_encoder(cc, nan_as_category= True)\n",
    "\n",
    "    # General aggregations\n",
    "    cc.drop(['SK_ID_PREV'], axis= 1, inplace = True)\n",
    "    cc_agg = cc.groupby('SK_ID_CURR').agg(['min', 'max', 'mean', 'sum', 'var'])\n",
    "    cc_agg.columns = pd.Index(['CC_' + e[0] + \"_\" + e[1].upper() for e in cc_agg.columns.tolist()])\n",
    "    \n",
    "    # Count credit card lines\n",
    "    cc_agg['CC_COUNT'] = cc.groupby('SK_ID_CURR').size()\n",
    "    del cc\n",
    "    gc.collect()\n",
    "    \n",
    "    return cc_agg"
   ]
  },
  {
   "cell_type": "code",
   "execution_count": 12,
   "metadata": {},
   "outputs": [],
   "source": [
    "def main(debug = False):\n",
    "    num_rows = 10000 if debug else None\n",
    "    df = application_train_test(num_rows)\n",
    "    with timer(\"Process bureau and bureau_balance\"):\n",
    "        bureau = bureau_and_balance(num_rows)\n",
    "        print(\"Bureau df shape:\", bureau.shape)\n",
    "        df = df.join(bureau, how='left', on='SK_ID_CURR')\n",
    "        del bureau\n",
    "        gc.collect()\n",
    "    with timer(\"Process previous_applications\"):\n",
    "        prev = previous_applications(num_rows)\n",
    "        print(\"Previous applications df shape:\", prev.shape)\n",
    "        df = df.join(prev, how='left', on='SK_ID_CURR')\n",
    "        del prev\n",
    "        gc.collect()\n",
    "    with timer(\"Process POS-CASH balance\"):\n",
    "        pos = pos_cash(num_rows)\n",
    "        print(\"Pos-cash balance df shape:\", pos.shape)\n",
    "        df = df.join(pos, how='left', on='SK_ID_CURR')\n",
    "        del pos\n",
    "        gc.collect()\n",
    "    with timer(\"Process installments payments\"):\n",
    "        ins = installments_payments(num_rows)\n",
    "        print(\"Installments payments df shape:\", ins.shape)\n",
    "        df = df.join(ins, how='left', on='SK_ID_CURR')\n",
    "        del ins\n",
    "        gc.collect()\n",
    "    with timer(\"Process credit card balance\"):\n",
    "        cc = credit_card_balance(num_rows)\n",
    "        print(\"Credit card balance df shape:\", cc.shape)\n",
    "        df = df.join(cc, how='left', on='SK_ID_CURR')\n",
    "        del cc\n",
    "        gc.collect()\n",
    "        \n",
    "    return df "
   ]
  },
  {
   "cell_type": "code",
   "execution_count": 13,
   "metadata": {},
   "outputs": [
    {
     "name": "stdout",
     "output_type": "stream",
     "text": [
      "Train samples: 307511, test samples: 48744\n",
      "Bureau df shape: (305811, 116)\n",
      "Process bureau and bureau_balance - done in 38s\n",
      "Previous applications df shape: (338857, 249)\n",
      "Process previous_applications - done in 44s\n",
      "Pos-cash balance df shape: (337252, 18)\n",
      "Process POS-CASH balance - done in 23s\n",
      "Installments payments df shape: (339587, 26)\n",
      "Process installments payments - done in 44s\n",
      "Credit card balance df shape: (103558, 141)\n",
      "Process credit card balance - done in 61s\n",
      "Full model run - done in 393s\n"
     ]
    }
   ],
   "source": [
    "# LightGBMError : On change les caractères spéciaux dans le nom de la colonne de `df`.\n",
    "# Supprimer tous les sympoles spéciaux\n",
    "# Remplacer toules infini par Nan \n",
    "\n",
    "import re\n",
    "if __name__ == \"__main__\":\n",
    "    with timer(\"Full model run\"):\n",
    "      df= main()\n",
    "\n",
    "      df = df.replace([np.inf, -np.inf], np.nan)\n",
    "      df = df.rename(columns = lambda x:re.sub('[^A-Za-z0-9_]+', '', x))\n",
    "\n",
    "      df.to_csv(\"df.csv\",index=False)"
   ]
  },
  {
   "cell_type": "code",
   "execution_count": 14,
   "metadata": {},
   "outputs": [],
   "source": [
    "train_df = df[df['TARGET'].notnull()]\n",
    "test_df = df[df['TARGET'].isnull()]"
   ]
  },
  {
   "cell_type": "code",
   "execution_count": 15,
   "metadata": {},
   "outputs": [],
   "source": [
    "train_df.to_csv(\"train_df.csv\", index =False)\n",
    "test_df.to_csv(\"test_df.csv\", index =False)"
   ]
  },
  {
   "cell_type": "markdown",
   "metadata": {},
   "source": [
    "## Deuxième partie : Feature Importance"
   ]
  },
  {
   "cell_type": "code",
   "execution_count": 16,
   "metadata": {},
   "outputs": [
    {
     "data": {
      "text/html": [
       "<style type=\"text/css\">\n",
       "#T_35ad7_row0_col0 {\n",
       "  background-color: #fee838;\n",
       "  color: #000000;\n",
       "}\n",
       "#T_35ad7_row1_col0 {\n",
       "  background-color: #013271;\n",
       "  color: #f1f1f1;\n",
       "}\n",
       "#T_35ad7_row2_col0 {\n",
       "  background-color: #00224e;\n",
       "  color: #f1f1f1;\n",
       "}\n",
       "</style>\n",
       "<table id=\"T_35ad7_\">\n",
       "  <thead>\n",
       "    <tr>\n",
       "      <th class=\"blank level0\" >&nbsp;</th>\n",
       "      <th class=\"col_heading level0 col0\" >TARGET</th>\n",
       "    </tr>\n",
       "  </thead>\n",
       "  <tbody>\n",
       "    <tr>\n",
       "      <th id=\"T_35ad7_level0_row0\" class=\"row_heading level0 row0\" >0.0</th>\n",
       "      <td id=\"T_35ad7_row0_col0\" class=\"data row0 col0\" >0.793491</td>\n",
       "    </tr>\n",
       "    <tr>\n",
       "      <th id=\"T_35ad7_level0_row1\" class=\"row_heading level0 row1\" >nan</th>\n",
       "      <td id=\"T_35ad7_row1_col0\" class=\"data row1 col0\" >0.136825</td>\n",
       "    </tr>\n",
       "    <tr>\n",
       "      <th id=\"T_35ad7_level0_row2\" class=\"row_heading level0 row2\" >1.0</th>\n",
       "      <td id=\"T_35ad7_row2_col0\" class=\"data row2 col0\" >0.069684</td>\n",
       "    </tr>\n",
       "  </tbody>\n",
       "</table>\n"
      ],
      "text/plain": [
       "<pandas.io.formats.style.Styler at 0x7f636f694a60>"
      ]
     },
     "execution_count": 16,
     "metadata": {},
     "output_type": "execute_result"
    }
   ],
   "source": [
    "df.TARGET.value_counts(normalize=True , dropna=False).to_frame().style.background_gradient('cividis')"
   ]
  },
  {
   "cell_type": "code",
   "execution_count": 17,
   "metadata": {},
   "outputs": [],
   "source": [
    "# LightGBM GBDT with KFold or Stratified KFold\n",
    "# Parameters from Tilii kernel: https://www.kaggle.com/tilii7/olivier-lightgbm-parameters-by-bayesian-opt/code\n",
    "# stratified = False, car df est déséquilibre\n",
    "\n",
    "\n",
    "def kfold_lightgbm(df, num_folds, stratified = False, debug= False):\n",
    "    \n",
    "    # Divide in training/validation and test data\n",
    "    train_df = df[df['TARGET'].notnull()]\n",
    "    test_df = df[df['TARGET'].isnull()]\n",
    "    print(\"Starting LightGBM. Train shape: {}, test shape: {}\".format(train_df.shape, test_df.shape))\n",
    "    del df\n",
    "    gc.collect()\n",
    "    \n",
    "    # Cross validation model\n",
    "    if stratified:\n",
    "        folds = StratifiedKFold(n_splits= num_folds, shuffle=True, random_state=1001)\n",
    "    else:\n",
    "        folds = KFold(n_splits= num_folds, shuffle=True, random_state=1001)\n",
    "    \n",
    "    print(folds)\n",
    "\n",
    "    oof_preds = np.zeros(train_df.shape[0])\n",
    "    sub_preds = np.zeros(test_df.shape[0])\n",
    "    feature_importance_df = pd.DataFrame()\n",
    "    feats = [f for f in train_df.columns if f not in ['TARGET','SK_ID_CURR','SK_ID_BUREAU','SK_ID_PREV','index']]\n",
    "    print(feats[:3])\n",
    "    \n",
    "    # split(X,y=None, groups = None)  => X : train_df[feats], y =>train_df['TARGET]\n",
    "    for n_fold, (train_idx, valid_idx) in enumerate(folds.split(train_df[feats], train_df['TARGET'])):\n",
    "        train_x, train_y = train_df[feats].iloc[train_idx], train_df['TARGET'].iloc[train_idx]\n",
    "        valid_x, valid_y = train_df[feats].iloc[valid_idx], train_df['TARGET'].iloc[valid_idx]\n",
    "\n",
    "        # LightGBM parameters found by Bayesian optimization\n",
    "        clf = LGBMClassifier(\n",
    "            nthread=4,\n",
    "            n_estimators=10000,\n",
    "            learning_rate=0.02,\n",
    "            num_leaves=34,\n",
    "            colsample_bytree=0.9497036,\n",
    "            subsample=0.8715623,\n",
    "            max_depth=8,\n",
    "            reg_alpha=0.041545473,\n",
    "            reg_lambda=0.0735294,\n",
    "            min_split_gain=0.0222415,\n",
    "            min_child_weight=39.3259775,\n",
    "            silent=-1,\n",
    "            verbose=-1, )\n",
    "\n",
    "        clf.fit(train_x, train_y, eval_set=[(train_x, train_y), (valid_x, valid_y)], eval_metric= 'auc', verbose= 200, early_stopping_rounds= 200)\n",
    "\n",
    "        oof_preds[valid_idx] = clf.predict_proba(valid_x, num_iteration=clf.best_iteration_)[:, 1]\n",
    "        sub_preds += clf.predict_proba(test_df[feats], num_iteration=clf.best_iteration_)[:, 1] / folds.n_splits\n",
    "\n",
    "        fold_importance_df = pd.DataFrame()\n",
    "        fold_importance_df[\"feature\"] = feats\n",
    "        fold_importance_df[\"importance\"] = clf.feature_importances_\n",
    "        fold_importance_df[\"fold\"] = n_fold + 1\n",
    "        feature_importance_df = pd.concat([feature_importance_df, fold_importance_df], axis=0)\n",
    "        print('Fold %2d AUC : %.6f' % (n_fold + 1, roc_auc_score(valid_y, oof_preds[valid_idx])))\n",
    "                   \n",
    "        # Sauvegarder le modele        \n",
    "        dump(clf, 'LGBMC.joblib')\n",
    "        del clf,train_x, train_y, valid_x, valid_y\n",
    "        gc.collect()\n",
    "        \n",
    "        \n",
    "    print('Full AUC score %.6f' % roc_auc_score(train_df['TARGET'], oof_preds))\n",
    "    \n",
    "    \n",
    "    \n",
    "    feature_importance_df.to_csv(\"feature_importance_df.csv\", index=False)\n",
    "    \n",
    "    \n",
    "    # Write submission file and plot feature importance\n",
    "    if not debug:\n",
    "        test_df['TARGET'] = sub_preds\n",
    "        submission_file_name = \"submission_kernel02.csv\"\n",
    "        test_df[['SK_ID_CURR', 'TARGET']].to_csv(submission_file_name, index= False)\n",
    "        \n"
   ]
  },
  {
   "cell_type": "code",
   "execution_count": 18,
   "metadata": {},
   "outputs": [
    {
     "name": "stdout",
     "output_type": "stream",
     "text": [
      "Starting LightGBM. Train shape: (307507, 798), test shape: (48744, 798)\n",
      "KFold(n_splits=10, random_state=1001, shuffle=True)\n",
      "['CODE_GENDER', 'FLAG_OWN_CAR', 'FLAG_OWN_REALTY']\n"
     ]
    },
    {
     "name": "stderr",
     "output_type": "stream",
     "text": [
      "/home/ying/.local/lib/python3.8/site-packages/lightgbm/sklearn.py:598: UserWarning: 'silent' argument is deprecated and will be removed in a future release of LightGBM. Pass 'verbose' parameter via keyword arguments instead.\n",
      "  _log_warning(\"'silent' argument is deprecated and will be removed in a future release of LightGBM. \"\n",
      "/home/ying/.local/lib/python3.8/site-packages/lightgbm/sklearn.py:726: UserWarning: 'early_stopping_rounds' argument is deprecated and will be removed in a future release of LightGBM. Pass 'early_stopping()' callback via 'callbacks' argument instead.\n",
      "  _log_warning(\"'early_stopping_rounds' argument is deprecated and will be removed in a future release of LightGBM. \"\n",
      "/home/ying/.local/lib/python3.8/site-packages/lightgbm/sklearn.py:736: UserWarning: 'verbose' argument is deprecated and will be removed in a future release of LightGBM. Pass 'log_evaluation()' callback via 'callbacks' argument instead.\n",
      "  _log_warning(\"'verbose' argument is deprecated and will be removed in a future release of LightGBM. \"\n"
     ]
    },
    {
     "name": "stdout",
     "output_type": "stream",
     "text": [
      "[LightGBM] [Warning] num_threads is set with nthread=4, will be overridden by n_jobs=-1. Current value: num_threads=-1\n",
      "[200]\ttraining's auc: 0.797104\ttraining's binary_logloss: 0.234829\tvalid_1's auc: 0.776089\tvalid_1's binary_logloss: 0.246759\n",
      "[400]\ttraining's auc: 0.819226\ttraining's binary_logloss: 0.22537\tvalid_1's auc: 0.787159\tvalid_1's binary_logloss: 0.242511\n",
      "[600]\ttraining's auc: 0.834156\ttraining's binary_logloss: 0.219272\tvalid_1's auc: 0.790698\tvalid_1's binary_logloss: 0.241198\n",
      "[800]\ttraining's auc: 0.84611\ttraining's binary_logloss: 0.21431\tvalid_1's auc: 0.792595\tvalid_1's binary_logloss: 0.240589\n",
      "[1000]\ttraining's auc: 0.856645\ttraining's binary_logloss: 0.209866\tvalid_1's auc: 0.79355\tvalid_1's binary_logloss: 0.24027\n",
      "[1200]\ttraining's auc: 0.866401\ttraining's binary_logloss: 0.205708\tvalid_1's auc: 0.794057\tvalid_1's binary_logloss: 0.240123\n",
      "[1400]\ttraining's auc: 0.875282\ttraining's binary_logloss: 0.201766\tvalid_1's auc: 0.794297\tvalid_1's binary_logloss: 0.240025\n",
      "[1600]\ttraining's auc: 0.883466\ttraining's binary_logloss: 0.197906\tvalid_1's auc: 0.794296\tvalid_1's binary_logloss: 0.240052\n",
      "Fold  1 AUC : 0.794378\n"
     ]
    },
    {
     "name": "stderr",
     "output_type": "stream",
     "text": [
      "/home/ying/.local/lib/python3.8/site-packages/lightgbm/sklearn.py:598: UserWarning: 'silent' argument is deprecated and will be removed in a future release of LightGBM. Pass 'verbose' parameter via keyword arguments instead.\n",
      "  _log_warning(\"'silent' argument is deprecated and will be removed in a future release of LightGBM. \"\n",
      "/home/ying/.local/lib/python3.8/site-packages/lightgbm/sklearn.py:726: UserWarning: 'early_stopping_rounds' argument is deprecated and will be removed in a future release of LightGBM. Pass 'early_stopping()' callback via 'callbacks' argument instead.\n",
      "  _log_warning(\"'early_stopping_rounds' argument is deprecated and will be removed in a future release of LightGBM. \"\n",
      "/home/ying/.local/lib/python3.8/site-packages/lightgbm/sklearn.py:736: UserWarning: 'verbose' argument is deprecated and will be removed in a future release of LightGBM. Pass 'log_evaluation()' callback via 'callbacks' argument instead.\n",
      "  _log_warning(\"'verbose' argument is deprecated and will be removed in a future release of LightGBM. \"\n"
     ]
    },
    {
     "name": "stdout",
     "output_type": "stream",
     "text": [
      "[LightGBM] [Warning] num_threads is set with nthread=4, will be overridden by n_jobs=-1. Current value: num_threads=-1\n",
      "[200]\ttraining's auc: 0.796504\ttraining's binary_logloss: 0.235573\tvalid_1's auc: 0.777058\tvalid_1's binary_logloss: 0.241702\n",
      "[400]\ttraining's auc: 0.819063\ttraining's binary_logloss: 0.226043\tvalid_1's auc: 0.786754\tvalid_1's binary_logloss: 0.237454\n",
      "[600]\ttraining's auc: 0.833962\ttraining's binary_logloss: 0.21997\tvalid_1's auc: 0.788941\tvalid_1's binary_logloss: 0.236447\n",
      "[800]\ttraining's auc: 0.846242\ttraining's binary_logloss: 0.214952\tvalid_1's auc: 0.790163\tvalid_1's binary_logloss: 0.235943\n",
      "[1000]\ttraining's auc: 0.856358\ttraining's binary_logloss: 0.210596\tvalid_1's auc: 0.790747\tvalid_1's binary_logloss: 0.235697\n",
      "[1200]\ttraining's auc: 0.865662\ttraining's binary_logloss: 0.20657\tvalid_1's auc: 0.791263\tvalid_1's binary_logloss: 0.235542\n",
      "[1400]\ttraining's auc: 0.874365\ttraining's binary_logloss: 0.202665\tvalid_1's auc: 0.791252\tvalid_1's binary_logloss: 0.2355\n",
      "[1600]\ttraining's auc: 0.88255\ttraining's binary_logloss: 0.198907\tvalid_1's auc: 0.791409\tvalid_1's binary_logloss: 0.235456\n",
      "[1800]\ttraining's auc: 0.8901\ttraining's binary_logloss: 0.195284\tvalid_1's auc: 0.791407\tvalid_1's binary_logloss: 0.235479\n",
      "Fold  2 AUC : 0.791539\n"
     ]
    },
    {
     "name": "stderr",
     "output_type": "stream",
     "text": [
      "/home/ying/.local/lib/python3.8/site-packages/lightgbm/sklearn.py:598: UserWarning: 'silent' argument is deprecated and will be removed in a future release of LightGBM. Pass 'verbose' parameter via keyword arguments instead.\n",
      "  _log_warning(\"'silent' argument is deprecated and will be removed in a future release of LightGBM. \"\n",
      "/home/ying/.local/lib/python3.8/site-packages/lightgbm/sklearn.py:726: UserWarning: 'early_stopping_rounds' argument is deprecated and will be removed in a future release of LightGBM. Pass 'early_stopping()' callback via 'callbacks' argument instead.\n",
      "  _log_warning(\"'early_stopping_rounds' argument is deprecated and will be removed in a future release of LightGBM. \"\n",
      "/home/ying/.local/lib/python3.8/site-packages/lightgbm/sklearn.py:736: UserWarning: 'verbose' argument is deprecated and will be removed in a future release of LightGBM. Pass 'log_evaluation()' callback via 'callbacks' argument instead.\n",
      "  _log_warning(\"'verbose' argument is deprecated and will be removed in a future release of LightGBM. \"\n"
     ]
    },
    {
     "name": "stdout",
     "output_type": "stream",
     "text": [
      "[LightGBM] [Warning] num_threads is set with nthread=4, will be overridden by n_jobs=-1. Current value: num_threads=-1\n",
      "[200]\ttraining's auc: 0.797097\ttraining's binary_logloss: 0.235026\tvalid_1's auc: 0.76787\tvalid_1's binary_logloss: 0.246536\n",
      "[400]\ttraining's auc: 0.819952\ttraining's binary_logloss: 0.225433\tvalid_1's auc: 0.77831\tvalid_1's binary_logloss: 0.242546\n",
      "[600]\ttraining's auc: 0.834998\ttraining's binary_logloss: 0.219239\tvalid_1's auc: 0.781675\tvalid_1's binary_logloss: 0.241423\n",
      "[800]\ttraining's auc: 0.847146\ttraining's binary_logloss: 0.214195\tvalid_1's auc: 0.783388\tvalid_1's binary_logloss: 0.240839\n",
      "[1000]\ttraining's auc: 0.857393\ttraining's binary_logloss: 0.209832\tvalid_1's auc: 0.784432\tvalid_1's binary_logloss: 0.240554\n",
      "[1200]\ttraining's auc: 0.866948\ttraining's binary_logloss: 0.205647\tvalid_1's auc: 0.784983\tvalid_1's binary_logloss: 0.2404\n",
      "[1400]\ttraining's auc: 0.875487\ttraining's binary_logloss: 0.201791\tvalid_1's auc: 0.785176\tvalid_1's binary_logloss: 0.240401\n",
      "[1600]\ttraining's auc: 0.883394\ttraining's binary_logloss: 0.198109\tvalid_1's auc: 0.785557\tvalid_1's binary_logloss: 0.240355\n",
      "Fold  3 AUC : 0.785718\n"
     ]
    },
    {
     "name": "stderr",
     "output_type": "stream",
     "text": [
      "/home/ying/.local/lib/python3.8/site-packages/lightgbm/sklearn.py:598: UserWarning: 'silent' argument is deprecated and will be removed in a future release of LightGBM. Pass 'verbose' parameter via keyword arguments instead.\n",
      "  _log_warning(\"'silent' argument is deprecated and will be removed in a future release of LightGBM. \"\n",
      "/home/ying/.local/lib/python3.8/site-packages/lightgbm/sklearn.py:726: UserWarning: 'early_stopping_rounds' argument is deprecated and will be removed in a future release of LightGBM. Pass 'early_stopping()' callback via 'callbacks' argument instead.\n",
      "  _log_warning(\"'early_stopping_rounds' argument is deprecated and will be removed in a future release of LightGBM. \"\n",
      "/home/ying/.local/lib/python3.8/site-packages/lightgbm/sklearn.py:736: UserWarning: 'verbose' argument is deprecated and will be removed in a future release of LightGBM. Pass 'log_evaluation()' callback via 'callbacks' argument instead.\n",
      "  _log_warning(\"'verbose' argument is deprecated and will be removed in a future release of LightGBM. \"\n"
     ]
    },
    {
     "name": "stdout",
     "output_type": "stream",
     "text": [
      "[LightGBM] [Warning] num_threads is set with nthread=4, will be overridden by n_jobs=-1. Current value: num_threads=-1\n",
      "[200]\ttraining's auc: 0.796781\ttraining's binary_logloss: 0.23554\tvalid_1's auc: 0.778094\tvalid_1's binary_logloss: 0.241263\n",
      "[400]\ttraining's auc: 0.81928\ttraining's binary_logloss: 0.225978\tvalid_1's auc: 0.788498\tvalid_1's binary_logloss: 0.236955\n",
      "[600]\ttraining's auc: 0.834434\ttraining's binary_logloss: 0.219853\tvalid_1's auc: 0.792259\tvalid_1's binary_logloss: 0.235479\n",
      "[800]\ttraining's auc: 0.846298\ttraining's binary_logloss: 0.214997\tvalid_1's auc: 0.793655\tvalid_1's binary_logloss: 0.23492\n",
      "[1000]\ttraining's auc: 0.856943\ttraining's binary_logloss: 0.210483\tvalid_1's auc: 0.79455\tvalid_1's binary_logloss: 0.234589\n",
      "[1200]\ttraining's auc: 0.866468\ttraining's binary_logloss: 0.206359\tvalid_1's auc: 0.795305\tvalid_1's binary_logloss: 0.234344\n",
      "[1400]\ttraining's auc: 0.87528\ttraining's binary_logloss: 0.202416\tvalid_1's auc: 0.795796\tvalid_1's binary_logloss: 0.234162\n",
      "[1600]\ttraining's auc: 0.883302\ttraining's binary_logloss: 0.198654\tvalid_1's auc: 0.795924\tvalid_1's binary_logloss: 0.234096\n",
      "[1800]\ttraining's auc: 0.890913\ttraining's binary_logloss: 0.194995\tvalid_1's auc: 0.795973\tvalid_1's binary_logloss: 0.234039\n",
      "Fold  4 AUC : 0.796063\n"
     ]
    },
    {
     "name": "stderr",
     "output_type": "stream",
     "text": [
      "/home/ying/.local/lib/python3.8/site-packages/lightgbm/sklearn.py:598: UserWarning: 'silent' argument is deprecated and will be removed in a future release of LightGBM. Pass 'verbose' parameter via keyword arguments instead.\n",
      "  _log_warning(\"'silent' argument is deprecated and will be removed in a future release of LightGBM. \"\n",
      "/home/ying/.local/lib/python3.8/site-packages/lightgbm/sklearn.py:726: UserWarning: 'early_stopping_rounds' argument is deprecated and will be removed in a future release of LightGBM. Pass 'early_stopping()' callback via 'callbacks' argument instead.\n",
      "  _log_warning(\"'early_stopping_rounds' argument is deprecated and will be removed in a future release of LightGBM. \"\n",
      "/home/ying/.local/lib/python3.8/site-packages/lightgbm/sklearn.py:736: UserWarning: 'verbose' argument is deprecated and will be removed in a future release of LightGBM. Pass 'log_evaluation()' callback via 'callbacks' argument instead.\n",
      "  _log_warning(\"'verbose' argument is deprecated and will be removed in a future release of LightGBM. \"\n"
     ]
    },
    {
     "name": "stdout",
     "output_type": "stream",
     "text": [
      "[LightGBM] [Warning] num_threads is set with nthread=4, will be overridden by n_jobs=-1. Current value: num_threads=-1\n",
      "[200]\ttraining's auc: 0.796443\ttraining's binary_logloss: 0.236317\tvalid_1's auc: 0.78032\tvalid_1's binary_logloss: 0.234124\n",
      "[400]\ttraining's auc: 0.819068\ttraining's binary_logloss: 0.226741\tvalid_1's auc: 0.790482\tvalid_1's binary_logloss: 0.229854\n",
      "[600]\ttraining's auc: 0.833992\ttraining's binary_logloss: 0.220619\tvalid_1's auc: 0.793639\tvalid_1's binary_logloss: 0.228569\n",
      "[800]\ttraining's auc: 0.846192\ttraining's binary_logloss: 0.215603\tvalid_1's auc: 0.795317\tvalid_1's binary_logloss: 0.227936\n",
      "[1000]\ttraining's auc: 0.856565\ttraining's binary_logloss: 0.211185\tvalid_1's auc: 0.796372\tvalid_1's binary_logloss: 0.22758\n",
      "[1200]\ttraining's auc: 0.865942\ttraining's binary_logloss: 0.207098\tvalid_1's auc: 0.796874\tvalid_1's binary_logloss: 0.227377\n",
      "[1400]\ttraining's auc: 0.874589\ttraining's binary_logloss: 0.20322\tvalid_1's auc: 0.797234\tvalid_1's binary_logloss: 0.227289\n",
      "[1600]\ttraining's auc: 0.88268\ttraining's binary_logloss: 0.199404\tvalid_1's auc: 0.797698\tvalid_1's binary_logloss: 0.227134\n",
      "[1800]\ttraining's auc: 0.88999\ttraining's binary_logloss: 0.195829\tvalid_1's auc: 0.797628\tvalid_1's binary_logloss: 0.227119\n",
      "Fold  5 AUC : 0.797795\n"
     ]
    },
    {
     "name": "stderr",
     "output_type": "stream",
     "text": [
      "/home/ying/.local/lib/python3.8/site-packages/lightgbm/sklearn.py:598: UserWarning: 'silent' argument is deprecated and will be removed in a future release of LightGBM. Pass 'verbose' parameter via keyword arguments instead.\n",
      "  _log_warning(\"'silent' argument is deprecated and will be removed in a future release of LightGBM. \"\n",
      "/home/ying/.local/lib/python3.8/site-packages/lightgbm/sklearn.py:726: UserWarning: 'early_stopping_rounds' argument is deprecated and will be removed in a future release of LightGBM. Pass 'early_stopping()' callback via 'callbacks' argument instead.\n",
      "  _log_warning(\"'early_stopping_rounds' argument is deprecated and will be removed in a future release of LightGBM. \"\n",
      "/home/ying/.local/lib/python3.8/site-packages/lightgbm/sklearn.py:736: UserWarning: 'verbose' argument is deprecated and will be removed in a future release of LightGBM. Pass 'log_evaluation()' callback via 'callbacks' argument instead.\n",
      "  _log_warning(\"'verbose' argument is deprecated and will be removed in a future release of LightGBM. \"\n"
     ]
    },
    {
     "name": "stdout",
     "output_type": "stream",
     "text": [
      "[LightGBM] [Warning] num_threads is set with nthread=4, will be overridden by n_jobs=-1. Current value: num_threads=-1\n",
      "[200]\ttraining's auc: 0.797404\ttraining's binary_logloss: 0.235337\tvalid_1's auc: 0.76717\tvalid_1's binary_logloss: 0.243343\n",
      "[400]\ttraining's auc: 0.820012\ttraining's binary_logloss: 0.225758\tvalid_1's auc: 0.778167\tvalid_1's binary_logloss: 0.239452\n",
      "[600]\ttraining's auc: 0.835049\ttraining's binary_logloss: 0.219617\tvalid_1's auc: 0.782224\tvalid_1's binary_logloss: 0.238116\n",
      "[800]\ttraining's auc: 0.847157\ttraining's binary_logloss: 0.214639\tvalid_1's auc: 0.783884\tvalid_1's binary_logloss: 0.237496\n",
      "[1000]\ttraining's auc: 0.857712\ttraining's binary_logloss: 0.210155\tvalid_1's auc: 0.784849\tvalid_1's binary_logloss: 0.237177\n",
      "[1200]\ttraining's auc: 0.867235\ttraining's binary_logloss: 0.205973\tvalid_1's auc: 0.785466\tvalid_1's binary_logloss: 0.236928\n",
      "[1400]\ttraining's auc: 0.87616\ttraining's binary_logloss: 0.201876\tvalid_1's auc: 0.785705\tvalid_1's binary_logloss: 0.236856\n",
      "[1600]\ttraining's auc: 0.884216\ttraining's binary_logloss: 0.198072\tvalid_1's auc: 0.785865\tvalid_1's binary_logloss: 0.236807\n",
      "Fold  6 AUC : 0.785931\n"
     ]
    },
    {
     "name": "stderr",
     "output_type": "stream",
     "text": [
      "/home/ying/.local/lib/python3.8/site-packages/lightgbm/sklearn.py:598: UserWarning: 'silent' argument is deprecated and will be removed in a future release of LightGBM. Pass 'verbose' parameter via keyword arguments instead.\n",
      "  _log_warning(\"'silent' argument is deprecated and will be removed in a future release of LightGBM. \"\n",
      "/home/ying/.local/lib/python3.8/site-packages/lightgbm/sklearn.py:726: UserWarning: 'early_stopping_rounds' argument is deprecated and will be removed in a future release of LightGBM. Pass 'early_stopping()' callback via 'callbacks' argument instead.\n",
      "  _log_warning(\"'early_stopping_rounds' argument is deprecated and will be removed in a future release of LightGBM. \"\n",
      "/home/ying/.local/lib/python3.8/site-packages/lightgbm/sklearn.py:736: UserWarning: 'verbose' argument is deprecated and will be removed in a future release of LightGBM. Pass 'log_evaluation()' callback via 'callbacks' argument instead.\n",
      "  _log_warning(\"'verbose' argument is deprecated and will be removed in a future release of LightGBM. \"\n"
     ]
    },
    {
     "name": "stdout",
     "output_type": "stream",
     "text": [
      "[LightGBM] [Warning] num_threads is set with nthread=4, will be overridden by n_jobs=-1. Current value: num_threads=-1\n",
      "[200]\ttraining's auc: 0.797268\ttraining's binary_logloss: 0.235527\tvalid_1's auc: 0.774539\tvalid_1's binary_logloss: 0.240657\n",
      "[400]\ttraining's auc: 0.819627\ttraining's binary_logloss: 0.225979\tvalid_1's auc: 0.784495\tvalid_1's binary_logloss: 0.236476\n",
      "[600]\ttraining's auc: 0.834715\ttraining's binary_logloss: 0.219849\tvalid_1's auc: 0.787924\tvalid_1's binary_logloss: 0.235197\n",
      "[800]\ttraining's auc: 0.846754\ttraining's binary_logloss: 0.214933\tvalid_1's auc: 0.789387\tvalid_1's binary_logloss: 0.234711\n",
      "[1000]\ttraining's auc: 0.857246\ttraining's binary_logloss: 0.210556\tvalid_1's auc: 0.790167\tvalid_1's binary_logloss: 0.234452\n",
      "[1200]\ttraining's auc: 0.86674\ttraining's binary_logloss: 0.20641\tvalid_1's auc: 0.790378\tvalid_1's binary_logloss: 0.234369\n",
      "Fold  7 AUC : 0.790485\n"
     ]
    },
    {
     "name": "stderr",
     "output_type": "stream",
     "text": [
      "/home/ying/.local/lib/python3.8/site-packages/lightgbm/sklearn.py:598: UserWarning: 'silent' argument is deprecated and will be removed in a future release of LightGBM. Pass 'verbose' parameter via keyword arguments instead.\n",
      "  _log_warning(\"'silent' argument is deprecated and will be removed in a future release of LightGBM. \"\n",
      "/home/ying/.local/lib/python3.8/site-packages/lightgbm/sklearn.py:726: UserWarning: 'early_stopping_rounds' argument is deprecated and will be removed in a future release of LightGBM. Pass 'early_stopping()' callback via 'callbacks' argument instead.\n",
      "  _log_warning(\"'early_stopping_rounds' argument is deprecated and will be removed in a future release of LightGBM. \"\n",
      "/home/ying/.local/lib/python3.8/site-packages/lightgbm/sklearn.py:736: UserWarning: 'verbose' argument is deprecated and will be removed in a future release of LightGBM. Pass 'log_evaluation()' callback via 'callbacks' argument instead.\n",
      "  _log_warning(\"'verbose' argument is deprecated and will be removed in a future release of LightGBM. \"\n"
     ]
    },
    {
     "name": "stdout",
     "output_type": "stream",
     "text": [
      "[LightGBM] [Warning] num_threads is set with nthread=4, will be overridden by n_jobs=-1. Current value: num_threads=-1\n",
      "[200]\ttraining's auc: 0.797384\ttraining's binary_logloss: 0.235077\tvalid_1's auc: 0.770478\tvalid_1's binary_logloss: 0.245343\n",
      "[400]\ttraining's auc: 0.819702\ttraining's binary_logloss: 0.225544\tvalid_1's auc: 0.781769\tvalid_1's binary_logloss: 0.240998\n",
      "[600]\ttraining's auc: 0.834425\ttraining's binary_logloss: 0.219493\tvalid_1's auc: 0.786012\tvalid_1's binary_logloss: 0.23951\n",
      "[800]\ttraining's auc: 0.846047\ttraining's binary_logloss: 0.214726\tvalid_1's auc: 0.787919\tvalid_1's binary_logloss: 0.23886\n",
      "[1000]\ttraining's auc: 0.856655\ttraining's binary_logloss: 0.210293\tvalid_1's auc: 0.78906\tvalid_1's binary_logloss: 0.238453\n",
      "[1200]\ttraining's auc: 0.866183\ttraining's binary_logloss: 0.206126\tvalid_1's auc: 0.789716\tvalid_1's binary_logloss: 0.238288\n",
      "[1400]\ttraining's auc: 0.87484\ttraining's binary_logloss: 0.202211\tvalid_1's auc: 0.790159\tvalid_1's binary_logloss: 0.238168\n",
      "[1600]\ttraining's auc: 0.883079\ttraining's binary_logloss: 0.198351\tvalid_1's auc: 0.790417\tvalid_1's binary_logloss: 0.238134\n",
      "[1800]\ttraining's auc: 0.890744\ttraining's binary_logloss: 0.19464\tvalid_1's auc: 0.790555\tvalid_1's binary_logloss: 0.238096\n",
      "[2000]\ttraining's auc: 0.897761\ttraining's binary_logloss: 0.191137\tvalid_1's auc: 0.790737\tvalid_1's binary_logloss: 0.238058\n",
      "[2200]\ttraining's auc: 0.904267\ttraining's binary_logloss: 0.187749\tvalid_1's auc: 0.790931\tvalid_1's binary_logloss: 0.238024\n",
      "[2400]\ttraining's auc: 0.910177\ttraining's binary_logloss: 0.184576\tvalid_1's auc: 0.790844\tvalid_1's binary_logloss: 0.238077\n",
      "Fold  8 AUC : 0.790973\n"
     ]
    },
    {
     "name": "stderr",
     "output_type": "stream",
     "text": [
      "/home/ying/.local/lib/python3.8/site-packages/lightgbm/sklearn.py:598: UserWarning: 'silent' argument is deprecated and will be removed in a future release of LightGBM. Pass 'verbose' parameter via keyword arguments instead.\n",
      "  _log_warning(\"'silent' argument is deprecated and will be removed in a future release of LightGBM. \"\n",
      "/home/ying/.local/lib/python3.8/site-packages/lightgbm/sklearn.py:726: UserWarning: 'early_stopping_rounds' argument is deprecated and will be removed in a future release of LightGBM. Pass 'early_stopping()' callback via 'callbacks' argument instead.\n",
      "  _log_warning(\"'early_stopping_rounds' argument is deprecated and will be removed in a future release of LightGBM. \"\n",
      "/home/ying/.local/lib/python3.8/site-packages/lightgbm/sklearn.py:736: UserWarning: 'verbose' argument is deprecated and will be removed in a future release of LightGBM. Pass 'log_evaluation()' callback via 'callbacks' argument instead.\n",
      "  _log_warning(\"'verbose' argument is deprecated and will be removed in a future release of LightGBM. \"\n"
     ]
    },
    {
     "name": "stdout",
     "output_type": "stream",
     "text": [
      "[LightGBM] [Warning] num_threads is set with nthread=4, will be overridden by n_jobs=-1. Current value: num_threads=-1\n",
      "[200]\ttraining's auc: 0.796271\ttraining's binary_logloss: 0.235443\tvalid_1's auc: 0.78095\tvalid_1's binary_logloss: 0.242432\n",
      "[400]\ttraining's auc: 0.819217\ttraining's binary_logloss: 0.225821\tvalid_1's auc: 0.790889\tvalid_1's binary_logloss: 0.238024\n",
      "[600]\ttraining's auc: 0.834482\ttraining's binary_logloss: 0.219602\tvalid_1's auc: 0.794164\tvalid_1's binary_logloss: 0.236667\n",
      "[800]\ttraining's auc: 0.846516\ttraining's binary_logloss: 0.214606\tvalid_1's auc: 0.795267\tvalid_1's binary_logloss: 0.236102\n",
      "[1000]\ttraining's auc: 0.857025\ttraining's binary_logloss: 0.210197\tvalid_1's auc: 0.795732\tvalid_1's binary_logloss: 0.235873\n",
      "[1200]\ttraining's auc: 0.866886\ttraining's binary_logloss: 0.205937\tvalid_1's auc: 0.796417\tvalid_1's binary_logloss: 0.235606\n",
      "[1400]\ttraining's auc: 0.875787\ttraining's binary_logloss: 0.201939\tvalid_1's auc: 0.796829\tvalid_1's binary_logloss: 0.235449\n",
      "Fold  9 AUC : 0.796935\n"
     ]
    },
    {
     "name": "stderr",
     "output_type": "stream",
     "text": [
      "/home/ying/.local/lib/python3.8/site-packages/lightgbm/sklearn.py:598: UserWarning: 'silent' argument is deprecated and will be removed in a future release of LightGBM. Pass 'verbose' parameter via keyword arguments instead.\n",
      "  _log_warning(\"'silent' argument is deprecated and will be removed in a future release of LightGBM. \"\n",
      "/home/ying/.local/lib/python3.8/site-packages/lightgbm/sklearn.py:726: UserWarning: 'early_stopping_rounds' argument is deprecated and will be removed in a future release of LightGBM. Pass 'early_stopping()' callback via 'callbacks' argument instead.\n",
      "  _log_warning(\"'early_stopping_rounds' argument is deprecated and will be removed in a future release of LightGBM. \"\n",
      "/home/ying/.local/lib/python3.8/site-packages/lightgbm/sklearn.py:736: UserWarning: 'verbose' argument is deprecated and will be removed in a future release of LightGBM. Pass 'log_evaluation()' callback via 'callbacks' argument instead.\n",
      "  _log_warning(\"'verbose' argument is deprecated and will be removed in a future release of LightGBM. \"\n"
     ]
    },
    {
     "name": "stdout",
     "output_type": "stream",
     "text": [
      "[LightGBM] [Warning] num_threads is set with nthread=4, will be overridden by n_jobs=-1. Current value: num_threads=-1\n",
      "[200]\ttraining's auc: 0.796896\ttraining's binary_logloss: 0.235586\tvalid_1's auc: 0.771623\tvalid_1's binary_logloss: 0.240838\n",
      "[400]\ttraining's auc: 0.819521\ttraining's binary_logloss: 0.226054\tvalid_1's auc: 0.782653\tvalid_1's binary_logloss: 0.236584\n",
      "[600]\ttraining's auc: 0.834425\ttraining's binary_logloss: 0.219956\tvalid_1's auc: 0.786156\tvalid_1's binary_logloss: 0.235272\n",
      "[800]\ttraining's auc: 0.846621\ttraining's binary_logloss: 0.214988\tvalid_1's auc: 0.787993\tvalid_1's binary_logloss: 0.234571\n",
      "[1000]\ttraining's auc: 0.857497\ttraining's binary_logloss: 0.210439\tvalid_1's auc: 0.788599\tvalid_1's binary_logloss: 0.234316\n",
      "[1200]\ttraining's auc: 0.867333\ttraining's binary_logloss: 0.206162\tvalid_1's auc: 0.789137\tvalid_1's binary_logloss: 0.234125\n",
      "[1400]\ttraining's auc: 0.876078\ttraining's binary_logloss: 0.202211\tvalid_1's auc: 0.789402\tvalid_1's binary_logloss: 0.234037\n",
      "[1600]\ttraining's auc: 0.884375\ttraining's binary_logloss: 0.19833\tvalid_1's auc: 0.789871\tvalid_1's binary_logloss: 0.233863\n",
      "[1800]\ttraining's auc: 0.891726\ttraining's binary_logloss: 0.194752\tvalid_1's auc: 0.789827\tvalid_1's binary_logloss: 0.233887\n",
      "Fold 10 AUC : 0.790025\n",
      "Full AUC score 0.791950\n"
     ]
    },
    {
     "name": "stderr",
     "output_type": "stream",
     "text": [
      "<ipython-input-17-c4ee62a0efee>:77: SettingWithCopyWarning: \n",
      "A value is trying to be set on a copy of a slice from a DataFrame.\n",
      "Try using .loc[row_indexer,col_indexer] = value instead\n",
      "\n",
      "See the caveats in the documentation: https://pandas.pydata.org/pandas-docs/stable/user_guide/indexing.html#returning-a-view-versus-a-copy\n",
      "  test_df['TARGET'] = sub_preds\n"
     ]
    }
   ],
   "source": [
    "kfold_lightgbm(df, num_folds= 10, stratified= False)"
   ]
  },
  {
   "cell_type": "code",
   "execution_count": null,
   "metadata": {},
   "outputs": [],
   "source": [
    "# Display/plot feature importance\n",
    "def display_importances(feature_importance_df_):\n",
    "    cols = feature_importance_df_[[\"feature\", \"importance\"]].groupby(\"feature\").mean().sort_values(by=\"importance\", ascending=False)[:40].index\n",
    "    best_features = feature_importance_df_.loc[feature_importance_df_.feature.isin(cols)]\n",
    "    plt.figure(figsize=(8, 10))\n",
    "    sns.barplot(x=\"importance\", y=\"feature\", data=best_features.sort_values(by=\"importance\", ascending=False))\n",
    "    plt.title('LightGBM Features (avg over folds)')\n",
    "    plt.tight_layout()\n",
    "    plt.savefig('lgbm_importances01.png')"
   ]
  },
  {
   "cell_type": "code",
   "execution_count": 20,
   "metadata": {},
   "outputs": [
    {
     "data": {
      "image/png": "[encoded data removed]",
      "text/plain": [
       "<Figure size 576x720 with 1 Axes>"
      ]
     },
     "metadata": {
      "needs_background": "light"
     },
     "output_type": "display_data"
    }
   ],
   "source": [
    "feature_importance_df =pd.read_csv(\"feature_importance_df.csv\", sep=',')\n",
    "display_importances(feature_importance_df)"
   ]
  },
  {
   "cell_type": "code",
   "execution_count": 2,
   "metadata": {},
   "outputs": [
    {
     "name": "stderr",
     "output_type": "stream",
     "text": [
      "/home/ying/.local/lib/python3.8/site-packages/lightgbm/sklearn.py:598: UserWarning: 'silent' argument is deprecated and will be removed in a future release of LightGBM. Pass 'verbose' parameter via keyword arguments instead.\n",
      "  _log_warning(\"'silent' argument is deprecated and will be removed in a future release of LightGBM. \"\n"
     ]
    },
    {
     "name": "stdout",
     "output_type": "stream",
     "text": [
      "[LightGBM] [Warning] num_threads is set with nthread=4, will be overridden by n_jobs=-1. Current value: num_threads=-1\n"
     ]
    },
    {
     "data": {
      "text/html": [
       "<style>#sk-container-id-1 {color: black;background-color: white;}#sk-container-id-1 pre{padding: 0;}#sk-container-id-1 div.sk-toggleable {background-color: white;}#sk-container-id-1 label.sk-toggleable__label {cursor: pointer;display: block;width: 100%;margin-bottom: 0;padding: 0.3em;box-sizing: border-box;text-align: center;}#sk-container-id-1 label.sk-toggleable__label-arrow:before {content: \"▸\";float: left;margin-right: 0.25em;color: #696969;}#sk-container-id-1 label.sk-toggleable__label-arrow:hover:before {color: black;}#sk-container-id-1 div.sk-estimator:hover label.sk-toggleable__label-arrow:before {color: black;}#sk-container-id-1 div.sk-toggleable__content {max-height: 0;max-width: 0;overflow: hidden;text-align: left;background-color: #f0f8ff;}#sk-container-id-1 div.sk-toggleable__content pre {margin: 0.2em;color: black;border-radius: 0.25em;background-color: #f0f8ff;}#sk-container-id-1 input.sk-toggleable__control:checked~div.sk-toggleable__content {max-height: 200px;max-width: 100%;overflow: auto;}#sk-container-id-1 input.sk-toggleable__control:checked~label.sk-toggleable__label-arrow:before {content: \"▾\";}#sk-container-id-1 div.sk-estimator input.sk-toggleable__control:checked~label.sk-toggleable__label {background-color: #d4ebff;}#sk-container-id-1 div.sk-label input.sk-toggleable__control:checked~label.sk-toggleable__label {background-color: #d4ebff;}#sk-container-id-1 input.sk-hidden--visually {border: 0;clip: rect(1px 1px 1px 1px);clip: rect(1px, 1px, 1px, 1px);height: 1px;margin: -1px;overflow: hidden;padding: 0;position: absolute;width: 1px;}#sk-container-id-1 div.sk-estimator {font-family: monospace;background-color: #f0f8ff;border: 1px dotted black;border-radius: 0.25em;box-sizing: border-box;margin-bottom: 0.5em;}#sk-container-id-1 div.sk-estimator:hover {background-color: #d4ebff;}#sk-container-id-1 div.sk-parallel-item::after {content: \"\";width: 100%;border-bottom: 1px solid gray;flex-grow: 1;}#sk-container-id-1 div.sk-label:hover label.sk-toggleable__label {background-color: #d4ebff;}#sk-container-id-1 div.sk-serial::before {content: \"\";position: absolute;border-left: 1px solid gray;box-sizing: border-box;top: 0;bottom: 0;left: 50%;z-index: 0;}#sk-container-id-1 div.sk-serial {display: flex;flex-direction: column;align-items: center;background-color: white;padding-right: 0.2em;padding-left: 0.2em;position: relative;}#sk-container-id-1 div.sk-item {position: relative;z-index: 1;}#sk-container-id-1 div.sk-parallel {display: flex;align-items: stretch;justify-content: center;background-color: white;position: relative;}#sk-container-id-1 div.sk-item::before, #sk-container-id-1 div.sk-parallel-item::before {content: \"\";position: absolute;border-left: 1px solid gray;box-sizing: border-box;top: 0;bottom: 0;left: 50%;z-index: -1;}#sk-container-id-1 div.sk-parallel-item {display: flex;flex-direction: column;z-index: 1;position: relative;background-color: white;}#sk-container-id-1 div.sk-parallel-item:first-child::after {align-self: flex-end;width: 50%;}#sk-container-id-1 div.sk-parallel-item:last-child::after {align-self: flex-start;width: 50%;}#sk-container-id-1 div.sk-parallel-item:only-child::after {width: 0;}#sk-container-id-1 div.sk-dashed-wrapped {border: 1px dashed gray;margin: 0 0.4em 0.5em 0.4em;box-sizing: border-box;padding-bottom: 0.4em;background-color: white;}#sk-container-id-1 div.sk-label label {font-family: monospace;font-weight: bold;display: inline-block;line-height: 1.2em;}#sk-container-id-1 div.sk-label-container {text-align: center;}#sk-container-id-1 div.sk-container {/* jupyter's `normalize.less` sets `[hidden] { display: none; }` but bootstrap.min.css set `[hidden] { display: none !important; }` so we also need the `!important` here to be able to override the default hidden behavior on the sphinx rendered scikit-learn.org. See: https://github.com/scikit-learn/scikit-learn/issues/21755 */display: inline-block !important;position: relative;}#sk-container-id-1 div.sk-text-repr-fallback {display: none;}</style><div id=\"sk-container-id-1\" class=\"sk-top-container\"><div class=\"sk-text-repr-fallback\"><pre>LGBMClassifier(colsample_bytree=0.9497036, learning_rate=0.02, max_depth=8,\n",
       "               min_child_weight=39.3259775, min_split_gain=0.0222415,\n",
       "               n_estimators=10000, nthread=4, num_leaves=34,\n",
       "               reg_alpha=0.041545473, reg_lambda=0.0735294, silent=-1,\n",
       "               subsample=0.8715623, verbose=-1)</pre><b>In a Jupyter environment, please rerun this cell to show the HTML representation or trust the notebook. <br />On GitHub, the HTML representation is unable to render, please try loading this page with nbviewer.org.</b></div><div class=\"sk-container\" hidden><div class=\"sk-item\"><div class=\"sk-estimator sk-toggleable\"><input class=\"sk-toggleable__control sk-hidden--visually\" id=\"sk-estimator-id-1\" type=\"checkbox\" checked><label for=\"sk-estimator-id-1\" class=\"sk-toggleable__label sk-toggleable__label-arrow\">LGBMClassifier</label><div class=\"sk-toggleable__content\"><pre>LGBMClassifier(colsample_bytree=0.9497036, learning_rate=0.02, max_depth=8,\n",
       "               min_child_weight=39.3259775, min_split_gain=0.0222415,\n",
       "               n_estimators=10000, nthread=4, num_leaves=34,\n",
       "               reg_alpha=0.041545473, reg_lambda=0.0735294, silent=-1,\n",
       "               subsample=0.8715623, verbose=-1)</pre></div></div></div></div></div>"
      ],
      "text/plain": [
       "LGBMClassifier(colsample_bytree=0.9497036, learning_rate=0.02, max_depth=8,\n",
       "               min_child_weight=39.3259775, min_split_gain=0.0222415,\n",
       "               n_estimators=10000, nthread=4, num_leaves=34,\n",
       "               reg_alpha=0.041545473, reg_lambda=0.0735294, silent=-1,\n",
       "               subsample=0.8715623, verbose=-1)"
      ]
     },
     "execution_count": 2,
     "metadata": {},
     "output_type": "execute_result"
    }
   ],
   "source": [
    "clf = LGBMClassifier(\n",
    "            nthread=4,\n",
    "            n_estimators=10000,\n",
    "            learning_rate=0.02,\n",
    "            num_leaves=34,\n",
    "            colsample_bytree=0.9497036,\n",
    "            subsample=0.8715623,\n",
    "            max_depth=8,\n",
    "            reg_alpha=0.041545473,\n",
    "            reg_lambda=0.0735294,\n",
    "            min_split_gain=0.0222415,\n",
    "            min_child_weight=39.3259775,\n",
    "            silent=-1,\n",
    "            verbose=-1, )\n",
    "\n",
    "train_df = dt.fread('train_df.csv', sep=',').to_pandas()\n",
    "feats = [f for f in train_df.columns if f not in ['TARGET','SK_ID_CURR','SK_ID_BUREAU','SK_ID_PREV','index']]\n",
    "train_x = train_df[feats]\n",
    "train_y = train_df['TARGET']\n",
    "clf.fit(train_x, train_y)"
   ]
  },
  {
   "cell_type": "code",
   "execution_count": 9,
   "metadata": {},
   "outputs": [
    {
     "data": {
      "text/plain": [
       "['LightGBMC.joblib']"
      ]
     },
     "execution_count": 9,
     "metadata": {},
     "output_type": "execute_result"
    }
   ],
   "source": [
    "dump(clf,'LightGBMC.joblib')"
   ]
  },
  {
   "cell_type": "markdown",
   "metadata": {},
   "source": [
    "# Avec SMOTE"
   ]
  },
  {
   "cell_type": "code",
   "execution_count": 2,
   "metadata": {},
   "outputs": [
    {
     "data": {
      "text/html": [
       "<style type='text/css'>\n",
       ".datatable table.frame { margin-bottom: 0; }\n",
       ".datatable table.frame thead { border-bottom: none; }\n",
       ".datatable table.frame tr.coltypes td {  color: #FFFFFF;  line-height: 6px;  padding: 0 0.5em;}\n",
       ".datatable .bool    { background: #DDDD99; }\n",
       ".datatable .object  { background: #565656; }\n",
       ".datatable .int     { background: #5D9E5D; }\n",
       ".datatable .float   { background: #4040CC; }\n",
       ".datatable .str     { background: #CC4040; }\n",
       ".datatable .time    { background: #40CC40; }\n",
       ".datatable .row_index {  background: var(--jp-border-color3);  border-right: 1px solid var(--jp-border-color0);  color: var(--jp-ui-font-color3);  font-size: 9px;}\n",
       ".datatable .frame tbody td { text-align: left; }\n",
       ".datatable .frame tr.coltypes .row_index {  background: var(--jp-border-color0);}\n",
       ".datatable th:nth-child(2) { padding-left: 12px; }\n",
       ".datatable .hellipsis {  color: var(--jp-cell-editor-border-color);}\n",
       ".datatable .vellipsis {  background: var(--jp-layout-color0);  color: var(--jp-cell-editor-border-color);}\n",
       ".datatable .na {  color: var(--jp-cell-editor-border-color);  font-size: 80%;}\n",
       ".datatable .sp {  opacity: 0.25;}\n",
       ".datatable .footer { font-size: 9px; }\n",
       ".datatable .frame_dimensions {  background: var(--jp-border-color3);  border-top: 1px solid var(--jp-border-color0);  color: var(--jp-ui-font-color3);  display: inline-block;  opacity: 0.6;  padding: 1px 10px 1px 5px;}\n",
       "</style>\n"
      ],
      "text/plain": [
       "<IPython.core.display.HTML object>"
      ]
     },
     "metadata": {},
     "output_type": "display_data"
    },
    {
     "name": "stderr",
     "output_type": "stream",
     "text": [
      "/home/ying/.local/lib/python3.8/site-packages/pkg_resources/__init__.py:116: PkgResourcesDeprecationWarning: 0.23ubuntu1 is an invalid version and will not be supported in a future release\n",
      "  warnings.warn(\n",
      "/home/ying/.local/lib/python3.8/site-packages/pkg_resources/__init__.py:116: PkgResourcesDeprecationWarning: 0.1.36ubuntu1 is an invalid version and will not be supported in a future release\n",
      "  warnings.warn(\n"
     ]
    }
   ],
   "source": [
    "import numpy as np\n",
    "import pandas as pd\n",
    "import datatable as dt  # pip install git+https://github.com/h2oai/datatable\n",
    "import gc\n",
    "import time\n",
    "from contextlib import contextmanager\n",
    "from lightgbm import LGBMClassifier\n",
    "from catboost import CatBoostClassifier \n",
    "from sklearn.pipeline import make_pipeline\n",
    "from sklearn.impute import SimpleImputer\n",
    "from sklearn.metrics import roc_auc_score, roc_curve\n",
    "from sklearn.model_selection import KFold, StratifiedKFold\n",
    "import matplotlib.pyplot as plt\n",
    "import seaborn as sns\n",
    "import warnings\n",
    "warnings.simplefilter(action='ignore', category=FutureWarning)"
   ]
  },
  {
   "cell_type": "code",
   "execution_count": 1,
   "metadata": {},
   "outputs": [],
   "source": [
    "# LightGBM GBDT with KFold or Stratified KFold\n",
    "# Parameters from Tilii kernel: https://www.kaggle.com/tilii7/olivier-lightgbm-parameters-by-bayesian-opt/code\n",
    "# stratified = False, car df est déséquilibre\n",
    "from imblearn.over_sampling import SMOTE\n",
    "\n",
    "\n",
    "\n",
    "def kfold_lightgbm_smote(df, num_folds, stratified = False, debug= False):\n",
    "    \n",
    "    # Divide in training/validation and test data\n",
    "    train_df = df[df['TARGET'].notnull()]\n",
    "    test_df = df[df['TARGET'].isnull()]\n",
    "    print(\"Starting LightGBM. Train shape: {}, test shape: {}\".format(train_df.shape, test_df.shape))\n",
    "    del df\n",
    "    gc.collect()\n",
    "    \n",
    "    # Cross validation model\n",
    "    if stratified:\n",
    "        folds = StratifiedKFold(n_splits= num_folds, shuffle=True, random_state=1001)\n",
    "    else:\n",
    "        folds = KFold(n_splits= num_folds, shuffle=True, random_state=1001)\n",
    "    \n",
    "    print(folds)\n",
    "\n",
    "    oof_preds = np.zeros(train_df.shape[0])\n",
    "    sub_preds = np.zeros(test_df.shape[0])\n",
    "    feature_importance_df = pd.DataFrame()\n",
    "    feats = [f for f in train_df.columns if f not in ['TARGET','SK_ID_CURR','SK_ID_BUREAU','SK_ID_PREV','index']]\n",
    "   \n",
    "    \n",
    "\n",
    "    # Imputer les valeurs manquantes with SimpleImputer\n",
    "    from sklearn.impute import SimpleImputer\n",
    "    mean_imputer = SimpleImputer(strategy='most_frequent')\n",
    "    train_df = pd.DataFrame( mean_imputer.fit_transform(train_df), columns=train_df.columns)\n",
    "    \n",
    "    # Pour le sur-échantillonnage, l’algorithme SMOTE (Synthetic Minority Oversampling Technique) fait référence. \n",
    "    # Cet algorithme va permettre de créer des individus proches de ceux de la classe minoritaire afin de surreprésenter cette classe\n",
    "    sur_echant = SMOTE()\n",
    "    \n",
    "    \n",
    "    # split(X,y=None, groups = None)  => X : train_df[feats], y =>train_df['TARGET]\n",
    "    for n_fold, (train_idx, valid_idx) in enumerate(folds.split(train_df[feats], train_df['TARGET'])):\n",
    "        train_x, train_y = train_df[feats].iloc[train_idx], train_df['TARGET'].iloc[train_idx]\n",
    "        valid_x, valid_y = train_df[feats].iloc[valid_idx], train_df['TARGET'].iloc[valid_idx]\n",
    "        \n",
    "        # on applique la méthode fit_resample() sur nos données\n",
    "        train_x_sur, train_y_sur = sur_echant.fit_resample(train_x,train_y)\n",
    "\n",
    "        # LightGBM parameters found by Bayesian optimization\n",
    "        clf = LGBMClassifier(\n",
    "            nthread=4,\n",
    "            n_estimators=10000,\n",
    "            learning_rate=0.02,\n",
    "            num_leaves=34,\n",
    "            colsample_bytree=0.9497036,\n",
    "            subsample=0.8715623,\n",
    "            max_depth=8,\n",
    "            reg_alpha=0.041545473,\n",
    "            reg_lambda=0.0735294,\n",
    "            min_split_gain=0.0222415,\n",
    "            min_child_weight=39.3259775,\n",
    "            silent=-1,\n",
    "            verbose=-1, )\n",
    "\n",
    "        clf.fit(train_x_sur, train_y_sur, eval_set=[(train_x_sur, train_y_sur), (valid_x, valid_y)], eval_metric= 'auc', verbose= 200, early_stopping_rounds= 200)\n",
    "\n",
    "        oof_preds[valid_idx] = clf.predict_proba(valid_x, num_iteration=clf.best_iteration_)[:, 1]\n",
    "        sub_preds += clf.predict_proba(test_df[feats], num_iteration=clf.best_iteration_)[:, 1] / folds.n_splits\n",
    "\n",
    "        fold_importance_df = pd.DataFrame()\n",
    "        fold_importance_df[\"feature\"] = feats\n",
    "        fold_importance_df[\"importance\"] = clf.feature_importances_\n",
    "        fold_importance_df[\"fold\"] = n_fold + 1\n",
    "        feature_importance_df = pd.concat([feature_importance_df, fold_importance_df], axis=0)\n",
    "        print('Fold %2d AUC : %.6f' % (n_fold + 1, roc_auc_score(valid_y, oof_preds[valid_idx])))\n",
    "        \n",
    "      \n",
    "        del clf, train_x_sur, train_y_sur, valid_x, valid_y\n",
    "        gc.collect()\n",
    "        \n",
    "    print('Full AUC score %.6f' % roc_auc_score(train_df['TARGET'], oof_preds))\n",
    "    \n",
    "    \n",
    "    feature_importance_df.to_csv(\"feature_importance_df_smote.csv\", index=False)\n",
    "    \n",
    "    \n",
    "    \n",
    "    # Write submission file and plot feature importance\n",
    "    if not debug:\n",
    "        test_df['TARGET'] = sub_preds\n",
    "        submission_file_name = \"submission_kernel_smote.csv\"\n",
    "        test_df[['SK_ID_CURR', 'TARGET']].to_csv(submission_file_name, index= False)\n",
    "        \n"
   ]
  },
  {
   "cell_type": "code",
   "execution_count": 3,
   "metadata": {},
   "outputs": [
    {
     "name": "stdout",
     "output_type": "stream",
     "text": [
      "df shape: (356251, 798)\n"
     ]
    }
   ],
   "source": [
    "df = dt.fread('df.csv', sep=',').to_pandas()\n",
    "print(\"df shape: {}\".format(df.shape))"
   ]
  },
  {
   "cell_type": "code",
   "execution_count": 4,
   "metadata": {},
   "outputs": [
    {
     "name": "stdout",
     "output_type": "stream",
     "text": [
      "sample_df Shape:(178125, 798)\n"
     ]
    }
   ],
   "source": [
    "# On entraine le modèle d'abord avec 20% des données\n",
    "sample_df = df.sample(int(len(df) * 0.5))\n",
    "print(\"sample_df Shape:{}\".format(sample_df.shape))"
   ]
  },
  {
   "cell_type": "code",
   "execution_count": 5,
   "metadata": {},
   "outputs": [
    {
     "name": "stdout",
     "output_type": "stream",
     "text": [
      "Starting LightGBM. Train shape: (153791, 798), test shape: (24334, 798)\n",
      "KFold(n_splits=10, random_state=1001, shuffle=True)\n"
     ]
    },
    {
     "name": "stderr",
     "output_type": "stream",
     "text": [
      "/home/ying/.local/lib/python3.8/site-packages/numpy/core/fromnumeric.py:86: RuntimeWarning: invalid value encountered in reduce\n",
      "  return ufunc.reduce(obj, axis, dtype, out, **passkwargs)\n",
      "/home/ying/.local/lib/python3.8/site-packages/numpy/core/fromnumeric.py:86: RuntimeWarning: invalid value encountered in reduce\n",
      "  return ufunc.reduce(obj, axis, dtype, out, **passkwargs)\n",
      "/home/ying/.local/lib/python3.8/site-packages/lightgbm/sklearn.py:598: UserWarning: 'silent' argument is deprecated and will be removed in a future release of LightGBM. Pass 'verbose' parameter via keyword arguments instead.\n",
      "  _log_warning(\"'silent' argument is deprecated and will be removed in a future release of LightGBM. \"\n",
      "/home/ying/.local/lib/python3.8/site-packages/lightgbm/sklearn.py:726: UserWarning: 'early_stopping_rounds' argument is deprecated and will be removed in a future release of LightGBM. Pass 'early_stopping()' callback via 'callbacks' argument instead.\n",
      "  _log_warning(\"'early_stopping_rounds' argument is deprecated and will be removed in a future release of LightGBM. \"\n",
      "/home/ying/.local/lib/python3.8/site-packages/lightgbm/sklearn.py:736: UserWarning: 'verbose' argument is deprecated and will be removed in a future release of LightGBM. Pass 'log_evaluation()' callback via 'callbacks' argument instead.\n",
      "  _log_warning(\"'verbose' argument is deprecated and will be removed in a future release of LightGBM. \"\n"
     ]
    },
    {
     "name": "stdout",
     "output_type": "stream",
     "text": [
      "[LightGBM] [Warning] num_threads is set with nthread=4, will be overridden by n_jobs=-1. Current value: num_threads=-1\n",
      "[200]\ttraining's auc: 0.97996\ttraining's binary_logloss: 0.159505\tvalid_1's auc: 0.750075\tvalid_1's binary_logloss: 0.259262\n",
      "[400]\ttraining's auc: 0.983628\ttraining's binary_logloss: 0.131203\tvalid_1's auc: 0.771372\tvalid_1's binary_logloss: 0.24328\n",
      "[600]\ttraining's auc: 0.985833\ttraining's binary_logloss: 0.12214\tvalid_1's auc: 0.779253\tvalid_1's binary_logloss: 0.2395\n",
      "[800]\ttraining's auc: 0.987471\ttraining's binary_logloss: 0.116734\tvalid_1's auc: 0.781455\tvalid_1's binary_logloss: 0.238341\n",
      "[1000]\ttraining's auc: 0.988826\ttraining's binary_logloss: 0.112577\tvalid_1's auc: 0.782124\tvalid_1's binary_logloss: 0.23798\n",
      "[1200]\ttraining's auc: 0.98999\ttraining's binary_logloss: 0.108963\tvalid_1's auc: 0.782768\tvalid_1's binary_logloss: 0.237776\n",
      "[1400]\ttraining's auc: 0.991042\ttraining's binary_logloss: 0.105604\tvalid_1's auc: 0.782729\tvalid_1's binary_logloss: 0.237782\n",
      "Fold  1 AUC : 0.782978\n"
     ]
    },
    {
     "name": "stderr",
     "output_type": "stream",
     "text": [
      "/home/ying/.local/lib/python3.8/site-packages/lightgbm/sklearn.py:598: UserWarning: 'silent' argument is deprecated and will be removed in a future release of LightGBM. Pass 'verbose' parameter via keyword arguments instead.\n",
      "  _log_warning(\"'silent' argument is deprecated and will be removed in a future release of LightGBM. \"\n",
      "/home/ying/.local/lib/python3.8/site-packages/lightgbm/sklearn.py:726: UserWarning: 'early_stopping_rounds' argument is deprecated and will be removed in a future release of LightGBM. Pass 'early_stopping()' callback via 'callbacks' argument instead.\n",
      "  _log_warning(\"'early_stopping_rounds' argument is deprecated and will be removed in a future release of LightGBM. \"\n",
      "/home/ying/.local/lib/python3.8/site-packages/lightgbm/sklearn.py:736: UserWarning: 'verbose' argument is deprecated and will be removed in a future release of LightGBM. Pass 'log_evaluation()' callback via 'callbacks' argument instead.\n",
      "  _log_warning(\"'verbose' argument is deprecated and will be removed in a future release of LightGBM. \"\n"
     ]
    },
    {
     "name": "stdout",
     "output_type": "stream",
     "text": [
      "[LightGBM] [Warning] num_threads is set with nthread=4, will be overridden by n_jobs=-1. Current value: num_threads=-1\n",
      "[200]\ttraining's auc: 0.979953\ttraining's binary_logloss: 0.159685\tvalid_1's auc: 0.756952\tvalid_1's binary_logloss: 0.259524\n",
      "[400]\ttraining's auc: 0.983561\ttraining's binary_logloss: 0.131105\tvalid_1's auc: 0.782306\tvalid_1's binary_logloss: 0.242364\n",
      "[600]\ttraining's auc: 0.985806\ttraining's binary_logloss: 0.122058\tvalid_1's auc: 0.790277\tvalid_1's binary_logloss: 0.238355\n",
      "[800]\ttraining's auc: 0.987546\ttraining's binary_logloss: 0.116413\tvalid_1's auc: 0.792938\tvalid_1's binary_logloss: 0.237048\n",
      "[1000]\ttraining's auc: 0.988892\ttraining's binary_logloss: 0.112301\tvalid_1's auc: 0.794762\tvalid_1's binary_logloss: 0.236306\n",
      "[1200]\ttraining's auc: 0.990095\ttraining's binary_logloss: 0.108616\tvalid_1's auc: 0.795636\tvalid_1's binary_logloss: 0.235994\n",
      "[1400]\ttraining's auc: 0.991141\ttraining's binary_logloss: 0.10524\tvalid_1's auc: 0.796172\tvalid_1's binary_logloss: 0.235823\n",
      "[1600]\ttraining's auc: 0.992021\ttraining's binary_logloss: 0.102281\tvalid_1's auc: 0.796124\tvalid_1's binary_logloss: 0.235804\n",
      "Fold  2 AUC : 0.796276\n"
     ]
    },
    {
     "name": "stderr",
     "output_type": "stream",
     "text": [
      "/home/ying/.local/lib/python3.8/site-packages/lightgbm/sklearn.py:598: UserWarning: 'silent' argument is deprecated and will be removed in a future release of LightGBM. Pass 'verbose' parameter via keyword arguments instead.\n",
      "  _log_warning(\"'silent' argument is deprecated and will be removed in a future release of LightGBM. \"\n",
      "/home/ying/.local/lib/python3.8/site-packages/lightgbm/sklearn.py:726: UserWarning: 'early_stopping_rounds' argument is deprecated and will be removed in a future release of LightGBM. Pass 'early_stopping()' callback via 'callbacks' argument instead.\n",
      "  _log_warning(\"'early_stopping_rounds' argument is deprecated and will be removed in a future release of LightGBM. \"\n",
      "/home/ying/.local/lib/python3.8/site-packages/lightgbm/sklearn.py:736: UserWarning: 'verbose' argument is deprecated and will be removed in a future release of LightGBM. Pass 'log_evaluation()' callback via 'callbacks' argument instead.\n",
      "  _log_warning(\"'verbose' argument is deprecated and will be removed in a future release of LightGBM. \"\n"
     ]
    },
    {
     "name": "stdout",
     "output_type": "stream",
     "text": [
      "[LightGBM] [Warning] num_threads is set with nthread=4, will be overridden by n_jobs=-1. Current value: num_threads=-1\n",
      "[200]\ttraining's auc: 0.980007\ttraining's binary_logloss: 0.15985\tvalid_1's auc: 0.745295\tvalid_1's binary_logloss: 0.25618\n",
      "[400]\ttraining's auc: 0.983645\ttraining's binary_logloss: 0.13119\tvalid_1's auc: 0.765769\tvalid_1's binary_logloss: 0.240401\n",
      "[600]\ttraining's auc: 0.985915\ttraining's binary_logloss: 0.122154\tvalid_1's auc: 0.770744\tvalid_1's binary_logloss: 0.237657\n",
      "[800]\ttraining's auc: 0.98756\ttraining's binary_logloss: 0.116675\tvalid_1's auc: 0.772623\tvalid_1's binary_logloss: 0.236836\n",
      "[1000]\ttraining's auc: 0.988922\ttraining's binary_logloss: 0.112431\tvalid_1's auc: 0.773167\tvalid_1's binary_logloss: 0.236482\n",
      "[1200]\ttraining's auc: 0.99008\ttraining's binary_logloss: 0.108747\tvalid_1's auc: 0.773283\tvalid_1's binary_logloss: 0.236463\n",
      "Fold  3 AUC : 0.773528\n"
     ]
    },
    {
     "name": "stderr",
     "output_type": "stream",
     "text": [
      "/home/ying/.local/lib/python3.8/site-packages/lightgbm/sklearn.py:598: UserWarning: 'silent' argument is deprecated and will be removed in a future release of LightGBM. Pass 'verbose' parameter via keyword arguments instead.\n",
      "  _log_warning(\"'silent' argument is deprecated and will be removed in a future release of LightGBM. \"\n",
      "/home/ying/.local/lib/python3.8/site-packages/lightgbm/sklearn.py:726: UserWarning: 'early_stopping_rounds' argument is deprecated and will be removed in a future release of LightGBM. Pass 'early_stopping()' callback via 'callbacks' argument instead.\n",
      "  _log_warning(\"'early_stopping_rounds' argument is deprecated and will be removed in a future release of LightGBM. \"\n",
      "/home/ying/.local/lib/python3.8/site-packages/lightgbm/sklearn.py:736: UserWarning: 'verbose' argument is deprecated and will be removed in a future release of LightGBM. Pass 'log_evaluation()' callback via 'callbacks' argument instead.\n",
      "  _log_warning(\"'verbose' argument is deprecated and will be removed in a future release of LightGBM. \"\n"
     ]
    },
    {
     "name": "stdout",
     "output_type": "stream",
     "text": [
      "[LightGBM] [Warning] num_threads is set with nthread=4, will be overridden by n_jobs=-1. Current value: num_threads=-1\n",
      "[200]\ttraining's auc: 0.979879\ttraining's binary_logloss: 0.159867\tvalid_1's auc: 0.742492\tvalid_1's binary_logloss: 0.255344\n",
      "[400]\ttraining's auc: 0.983591\ttraining's binary_logloss: 0.131431\tvalid_1's auc: 0.770068\tvalid_1's binary_logloss: 0.238084\n",
      "[600]\ttraining's auc: 0.985811\ttraining's binary_logloss: 0.122236\tvalid_1's auc: 0.777633\tvalid_1's binary_logloss: 0.234671\n",
      "[800]\ttraining's auc: 0.987468\ttraining's binary_logloss: 0.116725\tvalid_1's auc: 0.780455\tvalid_1's binary_logloss: 0.233572\n",
      "[1000]\ttraining's auc: 0.988781\ttraining's binary_logloss: 0.112679\tvalid_1's auc: 0.781947\tvalid_1's binary_logloss: 0.233046\n",
      "[1200]\ttraining's auc: 0.989882\ttraining's binary_logloss: 0.109288\tvalid_1's auc: 0.78294\tvalid_1's binary_logloss: 0.23271\n",
      "[1400]\ttraining's auc: 0.990974\ttraining's binary_logloss: 0.105833\tvalid_1's auc: 0.783369\tvalid_1's binary_logloss: 0.232552\n",
      "[1600]\ttraining's auc: 0.991885\ttraining's binary_logloss: 0.102773\tvalid_1's auc: 0.783504\tvalid_1's binary_logloss: 0.232582\n",
      "Fold  4 AUC : 0.783554\n"
     ]
    },
    {
     "name": "stderr",
     "output_type": "stream",
     "text": [
      "/home/ying/.local/lib/python3.8/site-packages/lightgbm/sklearn.py:598: UserWarning: 'silent' argument is deprecated and will be removed in a future release of LightGBM. Pass 'verbose' parameter via keyword arguments instead.\n",
      "  _log_warning(\"'silent' argument is deprecated and will be removed in a future release of LightGBM. \"\n",
      "/home/ying/.local/lib/python3.8/site-packages/lightgbm/sklearn.py:726: UserWarning: 'early_stopping_rounds' argument is deprecated and will be removed in a future release of LightGBM. Pass 'early_stopping()' callback via 'callbacks' argument instead.\n",
      "  _log_warning(\"'early_stopping_rounds' argument is deprecated and will be removed in a future release of LightGBM. \"\n",
      "/home/ying/.local/lib/python3.8/site-packages/lightgbm/sklearn.py:736: UserWarning: 'verbose' argument is deprecated and will be removed in a future release of LightGBM. Pass 'log_evaluation()' callback via 'callbacks' argument instead.\n",
      "  _log_warning(\"'verbose' argument is deprecated and will be removed in a future release of LightGBM. \"\n"
     ]
    },
    {
     "name": "stdout",
     "output_type": "stream",
     "text": [
      "[LightGBM] [Warning] num_threads is set with nthread=4, will be overridden by n_jobs=-1. Current value: num_threads=-1\n",
      "[200]\ttraining's auc: 0.980108\ttraining's binary_logloss: 0.158798\tvalid_1's auc: 0.750229\tvalid_1's binary_logloss: 0.265412\n",
      "[400]\ttraining's auc: 0.983722\ttraining's binary_logloss: 0.130573\tvalid_1's auc: 0.772871\tvalid_1's binary_logloss: 0.24989\n",
      "[600]\ttraining's auc: 0.985931\ttraining's binary_logloss: 0.121512\tvalid_1's auc: 0.779679\tvalid_1's binary_logloss: 0.246638\n",
      "[800]\ttraining's auc: 0.987592\ttraining's binary_logloss: 0.116068\tvalid_1's auc: 0.782806\tvalid_1's binary_logloss: 0.245256\n",
      "[1000]\ttraining's auc: 0.988921\ttraining's binary_logloss: 0.111924\tvalid_1's auc: 0.784594\tvalid_1's binary_logloss: 0.244563\n",
      "[1200]\ttraining's auc: 0.990031\ttraining's binary_logloss: 0.108448\tvalid_1's auc: 0.785856\tvalid_1's binary_logloss: 0.244135\n",
      "[1400]\ttraining's auc: 0.991024\ttraining's binary_logloss: 0.105294\tvalid_1's auc: 0.786976\tvalid_1's binary_logloss: 0.243709\n",
      "[1600]\ttraining's auc: 0.991953\ttraining's binary_logloss: 0.102162\tvalid_1's auc: 0.787539\tvalid_1's binary_logloss: 0.243557\n",
      "Fold  5 AUC : 0.787618\n"
     ]
    },
    {
     "name": "stderr",
     "output_type": "stream",
     "text": [
      "/home/ying/.local/lib/python3.8/site-packages/lightgbm/sklearn.py:598: UserWarning: 'silent' argument is deprecated and will be removed in a future release of LightGBM. Pass 'verbose' parameter via keyword arguments instead.\n",
      "  _log_warning(\"'silent' argument is deprecated and will be removed in a future release of LightGBM. \"\n",
      "/home/ying/.local/lib/python3.8/site-packages/lightgbm/sklearn.py:726: UserWarning: 'early_stopping_rounds' argument is deprecated and will be removed in a future release of LightGBM. Pass 'early_stopping()' callback via 'callbacks' argument instead.\n",
      "  _log_warning(\"'early_stopping_rounds' argument is deprecated and will be removed in a future release of LightGBM. \"\n",
      "/home/ying/.local/lib/python3.8/site-packages/lightgbm/sklearn.py:736: UserWarning: 'verbose' argument is deprecated and will be removed in a future release of LightGBM. Pass 'log_evaluation()' callback via 'callbacks' argument instead.\n",
      "  _log_warning(\"'verbose' argument is deprecated and will be removed in a future release of LightGBM. \"\n"
     ]
    },
    {
     "name": "stdout",
     "output_type": "stream",
     "text": [
      "[LightGBM] [Warning] num_threads is set with nthread=4, will be overridden by n_jobs=-1. Current value: num_threads=-1\n",
      "[200]\ttraining's auc: 0.980068\ttraining's binary_logloss: 0.158751\tvalid_1's auc: 0.747998\tvalid_1's binary_logloss: 0.260754\n",
      "[400]\ttraining's auc: 0.983675\ttraining's binary_logloss: 0.130833\tvalid_1's auc: 0.768665\tvalid_1's binary_logloss: 0.245501\n",
      "[600]\ttraining's auc: 0.985896\ttraining's binary_logloss: 0.121718\tvalid_1's auc: 0.77585\tvalid_1's binary_logloss: 0.242211\n",
      "[800]\ttraining's auc: 0.987548\ttraining's binary_logloss: 0.116345\tvalid_1's auc: 0.778264\tvalid_1's binary_logloss: 0.241372\n",
      "[1000]\ttraining's auc: 0.988948\ttraining's binary_logloss: 0.11207\tvalid_1's auc: 0.779051\tvalid_1's binary_logloss: 0.241027\n",
      "[1200]\ttraining's auc: 0.990112\ttraining's binary_logloss: 0.108375\tvalid_1's auc: 0.778963\tvalid_1's binary_logloss: 0.240992\n",
      "Fold  6 AUC : 0.779334\n"
     ]
    },
    {
     "name": "stderr",
     "output_type": "stream",
     "text": [
      "/home/ying/.local/lib/python3.8/site-packages/lightgbm/sklearn.py:598: UserWarning: 'silent' argument is deprecated and will be removed in a future release of LightGBM. Pass 'verbose' parameter via keyword arguments instead.\n",
      "  _log_warning(\"'silent' argument is deprecated and will be removed in a future release of LightGBM. \"\n",
      "/home/ying/.local/lib/python3.8/site-packages/lightgbm/sklearn.py:726: UserWarning: 'early_stopping_rounds' argument is deprecated and will be removed in a future release of LightGBM. Pass 'early_stopping()' callback via 'callbacks' argument instead.\n",
      "  _log_warning(\"'early_stopping_rounds' argument is deprecated and will be removed in a future release of LightGBM. \"\n",
      "/home/ying/.local/lib/python3.8/site-packages/lightgbm/sklearn.py:736: UserWarning: 'verbose' argument is deprecated and will be removed in a future release of LightGBM. Pass 'log_evaluation()' callback via 'callbacks' argument instead.\n",
      "  _log_warning(\"'verbose' argument is deprecated and will be removed in a future release of LightGBM. \"\n"
     ]
    },
    {
     "name": "stdout",
     "output_type": "stream",
     "text": [
      "[LightGBM] [Warning] num_threads is set with nthread=4, will be overridden by n_jobs=-1. Current value: num_threads=-1\n",
      "[200]\ttraining's auc: 0.980078\ttraining's binary_logloss: 0.159232\tvalid_1's auc: 0.748154\tvalid_1's binary_logloss: 0.263309\n",
      "[400]\ttraining's auc: 0.983778\ttraining's binary_logloss: 0.130552\tvalid_1's auc: 0.771952\tvalid_1's binary_logloss: 0.248007\n",
      "[600]\ttraining's auc: 0.985979\ttraining's binary_logloss: 0.121443\tvalid_1's auc: 0.779311\tvalid_1's binary_logloss: 0.245072\n",
      "[800]\ttraining's auc: 0.987629\ttraining's binary_logloss: 0.11607\tvalid_1's auc: 0.782077\tvalid_1's binary_logloss: 0.244098\n",
      "[1000]\ttraining's auc: 0.988909\ttraining's binary_logloss: 0.11206\tvalid_1's auc: 0.783325\tvalid_1's binary_logloss: 0.243794\n",
      "[1200]\ttraining's auc: 0.990058\ttraining's binary_logloss: 0.108448\tvalid_1's auc: 0.783438\tvalid_1's binary_logloss: 0.243737\n",
      "Fold  7 AUC : 0.783361\n"
     ]
    },
    {
     "name": "stderr",
     "output_type": "stream",
     "text": [
      "/home/ying/.local/lib/python3.8/site-packages/lightgbm/sklearn.py:598: UserWarning: 'silent' argument is deprecated and will be removed in a future release of LightGBM. Pass 'verbose' parameter via keyword arguments instead.\n",
      "  _log_warning(\"'silent' argument is deprecated and will be removed in a future release of LightGBM. \"\n",
      "/home/ying/.local/lib/python3.8/site-packages/lightgbm/sklearn.py:726: UserWarning: 'early_stopping_rounds' argument is deprecated and will be removed in a future release of LightGBM. Pass 'early_stopping()' callback via 'callbacks' argument instead.\n",
      "  _log_warning(\"'early_stopping_rounds' argument is deprecated and will be removed in a future release of LightGBM. \"\n",
      "/home/ying/.local/lib/python3.8/site-packages/lightgbm/sklearn.py:736: UserWarning: 'verbose' argument is deprecated and will be removed in a future release of LightGBM. Pass 'log_evaluation()' callback via 'callbacks' argument instead.\n",
      "  _log_warning(\"'verbose' argument is deprecated and will be removed in a future release of LightGBM. \"\n"
     ]
    },
    {
     "name": "stdout",
     "output_type": "stream",
     "text": [
      "[LightGBM] [Warning] num_threads is set with nthread=4, will be overridden by n_jobs=-1. Current value: num_threads=-1\n",
      "[200]\ttraining's auc: 0.980085\ttraining's binary_logloss: 0.159332\tvalid_1's auc: 0.748285\tvalid_1's binary_logloss: 0.260189\n",
      "[400]\ttraining's auc: 0.98377\ttraining's binary_logloss: 0.130908\tvalid_1's auc: 0.76768\tvalid_1's binary_logloss: 0.244811\n",
      "[600]\ttraining's auc: 0.986004\ttraining's binary_logloss: 0.121753\tvalid_1's auc: 0.77361\tvalid_1's binary_logloss: 0.241866\n",
      "[800]\ttraining's auc: 0.987641\ttraining's binary_logloss: 0.116331\tvalid_1's auc: 0.775527\tvalid_1's binary_logloss: 0.241011\n",
      "[1000]\ttraining's auc: 0.989005\ttraining's binary_logloss: 0.112067\tvalid_1's auc: 0.775684\tvalid_1's binary_logloss: 0.240799\n",
      "Fold  8 AUC : 0.775995\n"
     ]
    },
    {
     "name": "stderr",
     "output_type": "stream",
     "text": [
      "/home/ying/.local/lib/python3.8/site-packages/lightgbm/sklearn.py:598: UserWarning: 'silent' argument is deprecated and will be removed in a future release of LightGBM. Pass 'verbose' parameter via keyword arguments instead.\n",
      "  _log_warning(\"'silent' argument is deprecated and will be removed in a future release of LightGBM. \"\n",
      "/home/ying/.local/lib/python3.8/site-packages/lightgbm/sklearn.py:726: UserWarning: 'early_stopping_rounds' argument is deprecated and will be removed in a future release of LightGBM. Pass 'early_stopping()' callback via 'callbacks' argument instead.\n",
      "  _log_warning(\"'early_stopping_rounds' argument is deprecated and will be removed in a future release of LightGBM. \"\n",
      "/home/ying/.local/lib/python3.8/site-packages/lightgbm/sklearn.py:736: UserWarning: 'verbose' argument is deprecated and will be removed in a future release of LightGBM. Pass 'log_evaluation()' callback via 'callbacks' argument instead.\n",
      "  _log_warning(\"'verbose' argument is deprecated and will be removed in a future release of LightGBM. \"\n"
     ]
    },
    {
     "name": "stdout",
     "output_type": "stream",
     "text": [
      "[LightGBM] [Warning] num_threads is set with nthread=4, will be overridden by n_jobs=-1. Current value: num_threads=-1\n",
      "[200]\ttraining's auc: 0.979933\ttraining's binary_logloss: 0.159383\tvalid_1's auc: 0.745737\tvalid_1's binary_logloss: 0.255528\n",
      "[400]\ttraining's auc: 0.983576\ttraining's binary_logloss: 0.13122\tvalid_1's auc: 0.768826\tvalid_1's binary_logloss: 0.239258\n",
      "[600]\ttraining's auc: 0.985813\ttraining's binary_logloss: 0.122349\tvalid_1's auc: 0.775123\tvalid_1's binary_logloss: 0.236115\n",
      "[800]\ttraining's auc: 0.987432\ttraining's binary_logloss: 0.116912\tvalid_1's auc: 0.778081\tvalid_1's binary_logloss: 0.234925\n",
      "[1000]\ttraining's auc: 0.988808\ttraining's binary_logloss: 0.112638\tvalid_1's auc: 0.780287\tvalid_1's binary_logloss: 0.234167\n",
      "[1200]\ttraining's auc: 0.990042\ttraining's binary_logloss: 0.108762\tvalid_1's auc: 0.781442\tvalid_1's binary_logloss: 0.23389\n",
      "[1400]\ttraining's auc: 0.991066\ttraining's binary_logloss: 0.10544\tvalid_1's auc: 0.781997\tvalid_1's binary_logloss: 0.233742\n",
      "[1600]\ttraining's auc: 0.991958\ttraining's binary_logloss: 0.102421\tvalid_1's auc: 0.782078\tvalid_1's binary_logloss: 0.233802\n",
      "Fold  9 AUC : 0.782254\n"
     ]
    },
    {
     "name": "stderr",
     "output_type": "stream",
     "text": [
      "/home/ying/.local/lib/python3.8/site-packages/lightgbm/sklearn.py:598: UserWarning: 'silent' argument is deprecated and will be removed in a future release of LightGBM. Pass 'verbose' parameter via keyword arguments instead.\n",
      "  _log_warning(\"'silent' argument is deprecated and will be removed in a future release of LightGBM. \"\n",
      "/home/ying/.local/lib/python3.8/site-packages/lightgbm/sklearn.py:726: UserWarning: 'early_stopping_rounds' argument is deprecated and will be removed in a future release of LightGBM. Pass 'early_stopping()' callback via 'callbacks' argument instead.\n",
      "  _log_warning(\"'early_stopping_rounds' argument is deprecated and will be removed in a future release of LightGBM. \"\n",
      "/home/ying/.local/lib/python3.8/site-packages/lightgbm/sklearn.py:736: UserWarning: 'verbose' argument is deprecated and will be removed in a future release of LightGBM. Pass 'log_evaluation()' callback via 'callbacks' argument instead.\n",
      "  _log_warning(\"'verbose' argument is deprecated and will be removed in a future release of LightGBM. \"\n"
     ]
    },
    {
     "name": "stdout",
     "output_type": "stream",
     "text": [
      "[LightGBM] [Warning] num_threads is set with nthread=4, will be overridden by n_jobs=-1. Current value: num_threads=-1\n",
      "[200]\ttraining's auc: 0.980037\ttraining's binary_logloss: 0.15906\tvalid_1's auc: 0.748975\tvalid_1's binary_logloss: 0.26091\n",
      "[400]\ttraining's auc: 0.983721\ttraining's binary_logloss: 0.130856\tvalid_1's auc: 0.772423\tvalid_1's binary_logloss: 0.244323\n",
      "[600]\ttraining's auc: 0.985977\ttraining's binary_logloss: 0.121634\tvalid_1's auc: 0.77858\tvalid_1's binary_logloss: 0.241043\n",
      "[800]\ttraining's auc: 0.987718\ttraining's binary_logloss: 0.116128\tvalid_1's auc: 0.780748\tvalid_1's binary_logloss: 0.239995\n",
      "[1000]\ttraining's auc: 0.989023\ttraining's binary_logloss: 0.112071\tvalid_1's auc: 0.781941\tvalid_1's binary_logloss: 0.239513\n",
      "[1200]\ttraining's auc: 0.990167\ttraining's binary_logloss: 0.108509\tvalid_1's auc: 0.781814\tvalid_1's binary_logloss: 0.239507\n",
      "Fold 10 AUC : 0.782177\n",
      "Full AUC score 0.782743\n"
     ]
    },
    {
     "name": "stderr",
     "output_type": "stream",
     "text": [
      "<ipython-input-1-c36f10fc4534>:91: SettingWithCopyWarning: \n",
      "A value is trying to be set on a copy of a slice from a DataFrame.\n",
      "Try using .loc[row_indexer,col_indexer] = value instead\n",
      "\n",
      "See the caveats in the documentation: https://pandas.pydata.org/pandas-docs/stable/user_guide/indexing.html#returning-a-view-versus-a-copy\n",
      "  test_df['TARGET'] = sub_preds\n"
     ]
    }
   ],
   "source": [
    "\n",
    "kfold_lightgbm_smote(sample_df, num_folds= 10, stratified= False)"
   ]
  },
  {
   "cell_type": "code",
   "execution_count": 6,
   "metadata": {},
   "outputs": [],
   "source": [
    "# Display/plot feature importance\n",
    "def display_importances(feature_importance_df_):\n",
    "    cols = feature_importance_df_[[\"feature\", \"importance\"]].groupby(\"feature\").mean().sort_values(by=\"importance\", ascending=False)[:40].index\n",
    "    best_features = feature_importance_df_.loc[feature_importance_df_.feature.isin(cols)]\n",
    "    plt.figure(figsize=(8, 10))\n",
    "    sns.barplot(x=\"importance\", y=\"feature\", data=best_features.sort_values(by=\"importance\", ascending=False))\n",
    "    plt.title('LightGBM Features (avg over folds)')\n",
    "    plt.tight_layout()\n",
    "    plt.savefig('lgbm_importances_smote.png')"
   ]
  },
  {
   "cell_type": "code",
   "execution_count": 7,
   "metadata": {},
   "outputs": [
    {
     "data": {
      "image/png": "[encoded data removed]",
      "text/plain": [
       "<Figure size 576x720 with 1 Axes>"
      ]
     },
     "metadata": {
      "needs_background": "light"
     },
     "output_type": "display_data"
    }
   ],
   "source": [
    "feature_importance_df_smote =pd.read_csv(\"feature_importance_df_smote.csv\", sep=',')\n",
    "display_importances(feature_importance_df_smote)"
   ]
  }
 ],
 "metadata": {
  "kernelspec": {
   "display_name": "Python 3.8.10 64-bit",
   "language": "python",
   "name": "python3"
  },
  "language_info": {
   "codemirror_mode": {
    "name": "ipython",
    "version": 3
   },
   "file_extension": ".py",
   "mimetype": "text/x-python",
   "name": "python",
   "nbconvert_exporter": "python",
   "pygments_lexer": "ipython3",
   "version": "3.8.10"
  },
  "orig_nbformat": 4,
  "vscode": {
   "interpreter": {
    "hash": "31f2aee4e71d21fbe5cf8b01ff0e069b9275f58929596ceb00d14d90e3e16cd6"
   }
  }
 },
 "nbformat": 4,
 "nbformat_minor": 2
}
